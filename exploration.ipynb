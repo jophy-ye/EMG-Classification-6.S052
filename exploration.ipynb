{
 "cells": [
  {
   "cell_type": "markdown",
   "metadata": {},
   "source": [
    "### setup (run before hand)"
   ]
  },
  {
   "cell_type": "code",
   "execution_count": 1,
   "metadata": {
    "metadata": {}
   },
   "outputs": [
    {
     "name": "stdout",
     "output_type": "stream",
     "text": [
      "emg_dataset\\S11_10_KE.otb+_decomp.mat_edited.mat\n"
     ]
    }
   ],
   "source": [
    "from load_data import Signal\n",
    "import cnn\n",
    "import os\n",
    "from glob import glob\n",
    "\n",
    "DATASET = \"emg_dataset\"\n",
    "glob_pattern = os.path.join(DATASET, '*')\n",
    "arr = glob(glob_pattern)\n",
    "print(arr[0])\n",
    "datafiles = arr"
   ]
  },
  {
   "cell_type": "markdown",
   "metadata": {},
   "source": [
    "### valid and invalid files"
   ]
  },
  {
   "cell_type": "code",
   "execution_count": 29,
   "metadata": {
    "metadata": {}
   },
   "outputs": [
    {
     "data": {
      "text/plain": [
       "['emg_dataset\\\\S15_40_KE.otb+_decomp.mat_edited.mat',\n",
       " 'emg_dataset\\\\S15_80_KE.otb+_decomp.mat_edited.mat',\n",
       " 'emg_dataset\\\\S16_10_KE.otb+_decomp.mat_edited.mat']"
      ]
     },
     "execution_count": 29,
     "metadata": {},
     "output_type": "execute_result"
    }
   ],
   "source": [
    "arr[arr.index(\"emg_dataset\\S15_80_KE.otb+_decomp.mat_edited.mat\") - 1: 36 + 2]"
   ]
  },
  {
   "cell_type": "code",
   "execution_count": null,
   "metadata": {},
   "outputs": [],
   "source": []
  },
  {
   "cell_type": "code",
   "execution_count": 29,
   "metadata": {
    "metadata": {}
   },
   "outputs": [
    {
     "name": "stdout",
     "output_type": "stream",
     "text": [
      "0 emg_dataset\\S11_10_KE.otb+_decomp.mat_edited.mat (256, 79616)\n",
      "1 emg_dataset\\S11_20_KE.otb+_decomp.mat_edited.mat (256, 98432)\n",
      "2 emg_dataset\\S11_30_KE.otb+_decomp.mat_edited.mat (256, 104576)\n",
      "3 emg_dataset\\S11_40_KE.otb+_decomp.mat_edited.mat (256, 103040)\n",
      "4 emg_dataset\\S11_50_KE.otb+_decomp.mat_edited.mat (256, 93184)\n",
      "5 emg_dataset\\S11_60_KE.otb+_decomp.mat_edited.mat (256, 104320)\n",
      "6 emg_dataset\\S11_70_KE.otb+_decomp.mat_edited.mat (256, 109568)\n",
      "7 emg_dataset\\S11_80_KE.otb+_decomp.mat_edited.mat (256, 114304)\n",
      "8 emg_dataset\\S12_10_KE.otb+_decomp.mat_edited.mat (256, 79360)\n",
      "9 emg_dataset\\S12_20_KE.otb+_decomp.mat_edited.mat (256, 88192)\n",
      "10 emg_dataset\\S12_30_KE.otb+_decomp.mat_edited.mat (256, 97792)\n",
      "11 emg_dataset\\S12_40_KE.otb+_decomp.mat_edited.mat (256, 106496)\n",
      "12 emg_dataset\\S12_50_KE.otb+_decomp.mat_edited.mat (256, 90496)\n",
      "13 emg_dataset\\S12_60_KE.otb+_decomp.mat_edited.mat (256, 102656)\n",
      "14 emg_dataset\\S12_70_KE.otb+_decomp.mat_edited.mat (256, 110976)\n",
      "15 emg_dataset\\S12_80_KE.otb+_decomp.mat_edited.mat (256, 112128)\n",
      "16 emg_dataset\\S13_10_KE.otb+_decomp.mat_edited.mat (256, 80768)\n",
      "17 emg_dataset\\S13_20_KE.otb+_decomp.mat_edited.mat (256, 84352)\n",
      "18 emg_dataset\\S13_30_KE.otb+_decomp.mat_edited.mat (256, 95616)\n",
      "19 emg_dataset\\S13_40_KE.otb+_decomp.mat_edited.mat (256, 104832)\n",
      "20 emg_dataset\\S13_50_KE.otb+_decomp.mat_edited.mat (256, 86656)\n",
      "21 emg_dataset\\S13_60_KE.otb+_decomp.mat_edited.mat (256, 97792)\n",
      "22 emg_dataset\\S13_70_KE.otb+_decomp.mat_edited.mat (256, 105984)\n",
      "23 emg_dataset\\S13_80_KE.otb+_decomp.mat_edited.mat (256, 114560)\n",
      "24 emg_dataset\\S14_10_KE.otb+_decomp.mat_edited.mat (265, 81280)\n",
      "25 emg_dataset\\S14_20_KE.otb+_decomp.mat_edited.mat (265, 96384)\n",
      "26 emg_dataset\\S14_30_KE.otb+_decomp.mat_edited.mat (265, 95501)\n",
      "27 emg_dataset\\S14_40_KE.otb+_decomp.mat_edited.mat (265, 98048)\n",
      "28 emg_dataset\\S14_50_KE.otb+_decomp.mat_edited.mat (265, 91008)\n",
      "29 emg_dataset\\S14_60_KE.otb+_decomp.mat_edited.mat (265, 94080)\n",
      "30 emg_dataset\\S14_70_KE.otb+_decomp.mat_edited.mat (265, 108928)\n",
      "31 emg_dataset\\S14_80_KE.otb+_decomp.mat_edited.mat (265, 106368)\n",
      "32 emg_dataset\\S15_10_KE.otb+_decomp.mat_edited.mat (265, 79232)\n",
      "33 emg_dataset\\S15_20_KE.otb+_decomp.mat_edited.mat (265, 89984)\n",
      "34 emg_dataset\\S15_30_KE.otb+_decomp.mat_edited.mat (265, 97536)\n",
      "35 emg_dataset\\S15_40_KE.otb+_decomp.mat_edited.mat (265, 102400)\n",
      "36 emg_dataset\\S15_80_KE.otb+_decomp.mat_edited.mat (265, 115328)\n",
      "\tPlease use HDF reader for matlab v7.3 files, e.g. h5py\n",
      "\tCanot process idx=37, file='emg_dataset\\\\S16_10_KE.otb+_decomp.mat_edited.mat'\n",
      "\tPlease use HDF reader for matlab v7.3 files, e.g. h5py\n",
      "\tCanot process idx=38, file='emg_dataset\\\\S16_20_KE.otb+_decomp.mat_edited.mat'\n",
      "\tPlease use HDF reader for matlab v7.3 files, e.g. h5py\n",
      "\tCanot process idx=39, file='emg_dataset\\\\S16_30_KE.otb+_decomp.mat_edited.mat'\n",
      "\tPlease use HDF reader for matlab v7.3 files, e.g. h5py\n",
      "\tCanot process idx=40, file='emg_dataset\\\\S16_40_KE.otb+_decomp.mat_edited.mat'\n",
      "\tPlease use HDF reader for matlab v7.3 files, e.g. h5py\n",
      "\tCanot process idx=41, file='emg_dataset\\\\S16_50_KE.otb+_decomp.mat_edited.mat'\n",
      "\tPlease use HDF reader for matlab v7.3 files, e.g. h5py\n",
      "\tCanot process idx=42, file='emg_dataset\\\\S16_60_KE.otb+_decomp.mat_edited.mat'\n",
      "\tPlease use HDF reader for matlab v7.3 files, e.g. h5py\n",
      "\tCanot process idx=43, file='emg_dataset\\\\S16_70_KE.otb+_decomp.mat_edited.mat'\n",
      "44 emg_dataset\\S17_10_KE.otb+_decomp.mat_edited.mat (256, 82816)\n",
      "\tPlease use HDF reader for matlab v7.3 files, e.g. h5py\n",
      "\tCanot process idx=45, file='emg_dataset\\\\S17_20_KE.otb+_decomp.mat_edited.mat'\n",
      "46 emg_dataset\\S17_30_KE.otb+_decomp.mat_edited.mat (256, 101888)\n",
      "\tPlease use HDF reader for matlab v7.3 files, e.g. h5py\n",
      "\tCanot process idx=47, file='emg_dataset\\\\S17_40_KE.otb+_decomp.mat_edited.mat'\n",
      "48 emg_dataset\\S17_50_KE.otb+_decomp.mat_edited.mat (256, 91136)\n",
      "49 emg_dataset\\S17_60_KE.otb+_decomp.mat_edited.mat (256, 100096)\n",
      "50 emg_dataset\\S17_70_KE.otb+_decomp.mat_edited.mat (256, 109952)\n",
      "51 emg_dataset\\S17_80_KE.otb+_decomp.mat_edited.mat (256, 119296)\n",
      "\tPlease use HDF reader for matlab v7.3 files, e.g. h5py\n",
      "\tCanot process idx=52, file='emg_dataset\\\\S18_10_KE.otb+_decomp.mat_edited.mat'\n",
      "\tPlease use HDF reader for matlab v7.3 files, e.g. h5py\n",
      "\tCanot process idx=53, file='emg_dataset\\\\S18_20_KE.otb+_decomp.mat_edited.mat'\n",
      "\tPlease use HDF reader for matlab v7.3 files, e.g. h5py\n",
      "\tCanot process idx=54, file='emg_dataset\\\\S18_30_KE.otb+_decomp.mat_edited.mat'\n",
      "\tPlease use HDF reader for matlab v7.3 files, e.g. h5py\n",
      "\tCanot process idx=55, file='emg_dataset\\\\S18_40_KE.otb+_decomp.mat_edited.mat'\n",
      "\tPlease use HDF reader for matlab v7.3 files, e.g. h5py\n",
      "\tCanot process idx=56, file='emg_dataset\\\\S18_50_KE.otb+_decomp.mat_edited.mat'\n",
      "\tPlease use HDF reader for matlab v7.3 files, e.g. h5py\n",
      "\tCanot process idx=57, file='emg_dataset\\\\S18_60_KE.otb+_decomp.mat_edited.mat'\n",
      "\tPlease use HDF reader for matlab v7.3 files, e.g. h5py\n",
      "\tCanot process idx=58, file='emg_dataset\\\\S18_70_KE.otb+_decomp.mat_edited.mat'\n",
      "\tPlease use HDF reader for matlab v7.3 files, e.g. h5py\n",
      "\tCanot process idx=59, file='emg_dataset\\\\S18_80_KE.otb+_decomp.mat_edited.mat'\n",
      "60 emg_dataset\\S1_10_DF.otb+_decomp.mat_edited.mat (265, 62702)\n",
      "61 emg_dataset\\S1_20_DF.otb+_decomp.mat_edited.mat (265, 70281)\n",
      "62 emg_dataset\\S1_30_DF.otb+_decomp.mat_edited.mat (265, 78467)\n",
      "63 emg_dataset\\S1_40_DF.otb+_decomp.mat_edited.mat (265, 86655)\n",
      "64 emg_dataset\\S1_50_DF.otb+_decomp.mat_edited.mat (265, 83709)\n",
      "65 emg_dataset\\S1_60_DF.otb+_decomp.mat_edited.mat (265, 93442)\n",
      "66 emg_dataset\\S1_70_DF.otb+_decomp.mat_edited.mat (265, 91778)\n",
      "67 emg_dataset\\S1_80_DF.otb+_decomp.mat_edited.mat (265, 99326)\n",
      "68 emg_dataset\\S2_10_DF.otb+_decomp.mat_edited.mat (265, 62195)\n",
      "69 emg_dataset\\S2_20_DF.otb+_decomp.mat_edited.mat (265, 70919)\n",
      "70 emg_dataset\\S2_30_DF.otb+_decomp.mat_edited.mat (265, 79615)\n",
      "71 emg_dataset\\S2_40_DF.otb+_decomp.mat_edited.mat (265, 87038)\n",
      "72 emg_dataset\\S2_50_DF.otb+_decomp.mat_edited.mat (265, 86021)\n",
      "73 emg_dataset\\S2_60_DF.otb+_decomp.mat_edited.mat (265, 97406)\n",
      "74 emg_dataset\\S2_70_DF.otb+_decomp.mat_edited.mat (265, 90912)\n",
      "75 emg_dataset\\S2_80_DF.otb+_decomp.mat_edited.mat (265, 107647)\n",
      "76 emg_dataset\\S3_10_DF.otb+_decomp.mat_edited.mat (265, 62988)\n",
      "77 emg_dataset\\S3_20_DF.otb+_decomp.mat_edited.mat (265, 70415)\n",
      "78 emg_dataset\\S3_30_DF.otb+_decomp.mat_edited.mat (265, 77947)\n",
      "79 emg_dataset\\S3_40_DF.otb+_decomp.mat_edited.mat (265, 88074)\n",
      "80 emg_dataset\\S3_50_DF.otb+_decomp.mat_edited.mat (265, 84737)\n",
      "81 emg_dataset\\S3_60_DF.otb+_decomp.mat_edited.mat (265, 97285)\n",
      "82 emg_dataset\\S3_70_DF.otb+_decomp.mat_edited.mat (265, 90762)\n",
      "83 emg_dataset\\S3_80_DF.otb+_decomp.mat_edited.mat (265, 98811)\n",
      "\tPlease use HDF reader for matlab v7.3 files, e.g. h5py\n",
      "\tCanot process idx=84, file='emg_dataset\\\\S4_10_DF.otb+_decomp_edited.mat'\n",
      "85 emg_dataset\\S4_20_DF.otb+_decomp_edited.mat (265, 71142)\n",
      "86 emg_dataset\\S4_30_DF.otb+_decomp_edited.mat (265, 78336)\n",
      "87 emg_dataset\\S4_40_DF.otb+_decomp_edited.mat (265, 88391)\n",
      "\tPlease use HDF reader for matlab v7.3 files, e.g. h5py\n",
      "\tCanot process idx=88, file='emg_dataset\\\\S4_50_DF.otb+_decomp_edited.mat'\n",
      "\tPlease use HDF reader for matlab v7.3 files, e.g. h5py\n",
      "\tCanot process idx=89, file='emg_dataset\\\\S4_60_DF.otb+_decomp_edited.mat'\n",
      "90 emg_dataset\\S4_70_DF.otb+_decomp_edited.mat (265, 89277)\n",
      "91 emg_dataset\\S4_80_DF.otb+_decomp_edited.mat (265, 98365)\n",
      "92 emg_dataset\\S5_10_DF.otb+_decomp.mat_edited.mat (265, 63633)\n",
      "93 emg_dataset\\S5_20_DF.otb+_decomp.mat_edited.mat (265, 70427)\n",
      "94 emg_dataset\\S5_30_DF.otb+_decomp.mat_edited.mat (265, 78103)\n",
      "95 emg_dataset\\S5_40_DF.otb+_decomp.mat_edited.mat (265, 85889)\n",
      "96 emg_dataset\\S5_50_DF.otb+_decomp.mat_edited.mat (265, 83438)\n",
      "97 emg_dataset\\S5_60_DF.otb+_decomp.mat_edited.mat (265, 93438)\n",
      "98 emg_dataset\\S5_70_DF.otb+_decomp.mat_edited.mat (265, 90554)\n",
      "99 emg_dataset\\S5_80_DF.otb+_decomp.mat_edited.mat (265, 98176)\n",
      "100 emg_dataset\\S6_10_DF.otb+_decomp.mat_edited.mat (265, 66274)\n",
      "101 emg_dataset\\S6_20_DF.otb+_decomp.mat_edited.mat (265, 75181)\n",
      "102 emg_dataset\\S6_30_DF.otb+_decomp.mat_edited.mat (265, 83310)\n",
      "103 emg_dataset\\S6_40_DF.otb+_decomp.mat_edited.mat (265, 90103)\n",
      "104 emg_dataset\\S6_50_DF.otb+_decomp.mat_edited.mat (265, 88480)\n",
      "105 emg_dataset\\S6_60_DF.otb+_decomp.mat_edited.mat (265, 97850)\n",
      "106 emg_dataset\\S6_70_DF.otb+_decomp.mat_edited.mat (265, 94232)\n",
      "107 emg_dataset\\S6_80_DF.otb+_decomp.mat_edited.mat (265, 101511)\n",
      "108 emg_dataset\\S7_10_DF.otb+_decomp.mat_edited.mat (265, 65416)\n",
      "109 emg_dataset\\S7_20_DF.otb+_decomp.mat_edited.mat (265, 75511)\n",
      "110 emg_dataset\\S7_30_DF.otb+_decomp.mat_edited.mat (265, 82179)\n",
      "111 emg_dataset\\S7_40_DF.otb+_decomp.mat_edited.mat (265, 91648)\n",
      "112 emg_dataset\\S7_50_DF.otb+_decomp.mat_edited.mat (265, 92019)\n",
      "113 emg_dataset\\S7_60_DF.otb+_decomp.mat_edited.mat (265, 96773)\n",
      "114 emg_dataset\\S7_70_DF.otb+_decomp.mat_edited.mat (265, 96125)\n",
      "115 emg_dataset\\S7_80_DF.otb+_decomp.mat_edited.mat (265, 104838)\n",
      "116 emg_dataset\\S8_10_DF.otb+_decomp.mat_edited.mat (265, 65397)\n",
      "117 emg_dataset\\S8_20_DF.otb+_decomp.mat_edited.mat (265, 75543)\n",
      "118 emg_dataset\\S8_30_DF.otb+_decomp.mat_edited.mat (265, 83362)\n",
      "119 emg_dataset\\S8_40_DF.otb+_decomp.mat_edited.mat (265, 92286)\n",
      "120 emg_dataset\\S8_50_DF.otb+_decomp.mat_edited.mat (265, 88711)\n",
      "121 emg_dataset\\S8_60_DF.otb+_decomp.mat_edited.mat (265, 99747)\n",
      "122 emg_dataset\\S8_70_DF.otb+_decomp.mat_edited.mat (265, 93735)\n",
      "123 emg_dataset\\S8_80_DF.otb+_decomp.mat_edited.mat (265, 103812)\n"
     ]
    }
   ],
   "source": [
    "count = 0\n",
    "valid_files = []\n",
    "invalid_files = []\n",
    "for idx, file in enumerate(arr):\n",
    "    file_idx = 36 + idx\n",
    "    try:\n",
    "        zi = Signal(file)\n",
    "        #print(idx, file, zi.data.shape)\n",
    "        count += 1\n",
    "        valid_files.append(file)\n",
    "    except Exception as e:\n",
    "        print(f\"\\t{e}\")\n",
    "        print(f\"\\tCanot process {idx=}, {file=}\")\n",
    "        invalid_files.append(file)"
   ]
  },
  {
   "cell_type": "code",
   "execution_count": 30,
   "metadata": {
    "metadata": {}
   },
   "outputs": [
    {
     "name": "stdout",
     "output_type": "stream",
     "text": [
      "104\n",
      "['emg_dataset\\\\S11_10_KE.otb+_decomp.mat_edited.mat', 'emg_dataset\\\\S11_20_KE.otb+_decomp.mat_edited.mat', 'emg_dataset\\\\S11_30_KE.otb+_decomp.mat_edited.mat', 'emg_dataset\\\\S11_40_KE.otb+_decomp.mat_edited.mat', 'emg_dataset\\\\S11_50_KE.otb+_decomp.mat_edited.mat', 'emg_dataset\\\\S11_60_KE.otb+_decomp.mat_edited.mat', 'emg_dataset\\\\S11_70_KE.otb+_decomp.mat_edited.mat', 'emg_dataset\\\\S11_80_KE.otb+_decomp.mat_edited.mat', 'emg_dataset\\\\S12_10_KE.otb+_decomp.mat_edited.mat', 'emg_dataset\\\\S12_20_KE.otb+_decomp.mat_edited.mat', 'emg_dataset\\\\S12_30_KE.otb+_decomp.mat_edited.mat', 'emg_dataset\\\\S12_40_KE.otb+_decomp.mat_edited.mat', 'emg_dataset\\\\S12_50_KE.otb+_decomp.mat_edited.mat', 'emg_dataset\\\\S12_60_KE.otb+_decomp.mat_edited.mat', 'emg_dataset\\\\S12_70_KE.otb+_decomp.mat_edited.mat', 'emg_dataset\\\\S12_80_KE.otb+_decomp.mat_edited.mat', 'emg_dataset\\\\S13_10_KE.otb+_decomp.mat_edited.mat', 'emg_dataset\\\\S13_20_KE.otb+_decomp.mat_edited.mat', 'emg_dataset\\\\S13_30_KE.otb+_decomp.mat_edited.mat', 'emg_dataset\\\\S13_40_KE.otb+_decomp.mat_edited.mat', 'emg_dataset\\\\S13_50_KE.otb+_decomp.mat_edited.mat', 'emg_dataset\\\\S13_60_KE.otb+_decomp.mat_edited.mat', 'emg_dataset\\\\S13_70_KE.otb+_decomp.mat_edited.mat', 'emg_dataset\\\\S13_80_KE.otb+_decomp.mat_edited.mat', 'emg_dataset\\\\S14_10_KE.otb+_decomp.mat_edited.mat', 'emg_dataset\\\\S14_20_KE.otb+_decomp.mat_edited.mat', 'emg_dataset\\\\S14_30_KE.otb+_decomp.mat_edited.mat', 'emg_dataset\\\\S14_40_KE.otb+_decomp.mat_edited.mat', 'emg_dataset\\\\S14_50_KE.otb+_decomp.mat_edited.mat', 'emg_dataset\\\\S14_60_KE.otb+_decomp.mat_edited.mat', 'emg_dataset\\\\S14_70_KE.otb+_decomp.mat_edited.mat', 'emg_dataset\\\\S14_80_KE.otb+_decomp.mat_edited.mat', 'emg_dataset\\\\S15_10_KE.otb+_decomp.mat_edited.mat', 'emg_dataset\\\\S15_20_KE.otb+_decomp.mat_edited.mat', 'emg_dataset\\\\S15_30_KE.otb+_decomp.mat_edited.mat', 'emg_dataset\\\\S15_40_KE.otb+_decomp.mat_edited.mat', 'emg_dataset\\\\S15_80_KE.otb+_decomp.mat_edited.mat', 'emg_dataset\\\\S17_10_KE.otb+_decomp.mat_edited.mat', 'emg_dataset\\\\S17_30_KE.otb+_decomp.mat_edited.mat', 'emg_dataset\\\\S17_50_KE.otb+_decomp.mat_edited.mat', 'emg_dataset\\\\S17_60_KE.otb+_decomp.mat_edited.mat', 'emg_dataset\\\\S17_70_KE.otb+_decomp.mat_edited.mat', 'emg_dataset\\\\S17_80_KE.otb+_decomp.mat_edited.mat', 'emg_dataset\\\\S1_10_DF.otb+_decomp.mat_edited.mat', 'emg_dataset\\\\S1_20_DF.otb+_decomp.mat_edited.mat', 'emg_dataset\\\\S1_30_DF.otb+_decomp.mat_edited.mat', 'emg_dataset\\\\S1_40_DF.otb+_decomp.mat_edited.mat', 'emg_dataset\\\\S1_50_DF.otb+_decomp.mat_edited.mat', 'emg_dataset\\\\S1_60_DF.otb+_decomp.mat_edited.mat', 'emg_dataset\\\\S1_70_DF.otb+_decomp.mat_edited.mat', 'emg_dataset\\\\S1_80_DF.otb+_decomp.mat_edited.mat', 'emg_dataset\\\\S2_10_DF.otb+_decomp.mat_edited.mat', 'emg_dataset\\\\S2_20_DF.otb+_decomp.mat_edited.mat', 'emg_dataset\\\\S2_30_DF.otb+_decomp.mat_edited.mat', 'emg_dataset\\\\S2_40_DF.otb+_decomp.mat_edited.mat', 'emg_dataset\\\\S2_50_DF.otb+_decomp.mat_edited.mat', 'emg_dataset\\\\S2_60_DF.otb+_decomp.mat_edited.mat', 'emg_dataset\\\\S2_70_DF.otb+_decomp.mat_edited.mat', 'emg_dataset\\\\S2_80_DF.otb+_decomp.mat_edited.mat', 'emg_dataset\\\\S3_10_DF.otb+_decomp.mat_edited.mat', 'emg_dataset\\\\S3_20_DF.otb+_decomp.mat_edited.mat', 'emg_dataset\\\\S3_30_DF.otb+_decomp.mat_edited.mat', 'emg_dataset\\\\S3_40_DF.otb+_decomp.mat_edited.mat', 'emg_dataset\\\\S3_50_DF.otb+_decomp.mat_edited.mat', 'emg_dataset\\\\S3_60_DF.otb+_decomp.mat_edited.mat', 'emg_dataset\\\\S3_70_DF.otb+_decomp.mat_edited.mat', 'emg_dataset\\\\S3_80_DF.otb+_decomp.mat_edited.mat', 'emg_dataset\\\\S4_20_DF.otb+_decomp_edited.mat', 'emg_dataset\\\\S4_30_DF.otb+_decomp_edited.mat', 'emg_dataset\\\\S4_40_DF.otb+_decomp_edited.mat', 'emg_dataset\\\\S4_70_DF.otb+_decomp_edited.mat', 'emg_dataset\\\\S4_80_DF.otb+_decomp_edited.mat', 'emg_dataset\\\\S5_10_DF.otb+_decomp.mat_edited.mat', 'emg_dataset\\\\S5_20_DF.otb+_decomp.mat_edited.mat', 'emg_dataset\\\\S5_30_DF.otb+_decomp.mat_edited.mat', 'emg_dataset\\\\S5_40_DF.otb+_decomp.mat_edited.mat', 'emg_dataset\\\\S5_50_DF.otb+_decomp.mat_edited.mat', 'emg_dataset\\\\S5_60_DF.otb+_decomp.mat_edited.mat', 'emg_dataset\\\\S5_70_DF.otb+_decomp.mat_edited.mat', 'emg_dataset\\\\S5_80_DF.otb+_decomp.mat_edited.mat', 'emg_dataset\\\\S6_10_DF.otb+_decomp.mat_edited.mat', 'emg_dataset\\\\S6_20_DF.otb+_decomp.mat_edited.mat', 'emg_dataset\\\\S6_30_DF.otb+_decomp.mat_edited.mat', 'emg_dataset\\\\S6_40_DF.otb+_decomp.mat_edited.mat', 'emg_dataset\\\\S6_50_DF.otb+_decomp.mat_edited.mat', 'emg_dataset\\\\S6_60_DF.otb+_decomp.mat_edited.mat', 'emg_dataset\\\\S6_70_DF.otb+_decomp.mat_edited.mat', 'emg_dataset\\\\S6_80_DF.otb+_decomp.mat_edited.mat', 'emg_dataset\\\\S7_10_DF.otb+_decomp.mat_edited.mat', 'emg_dataset\\\\S7_20_DF.otb+_decomp.mat_edited.mat', 'emg_dataset\\\\S7_30_DF.otb+_decomp.mat_edited.mat', 'emg_dataset\\\\S7_40_DF.otb+_decomp.mat_edited.mat', 'emg_dataset\\\\S7_50_DF.otb+_decomp.mat_edited.mat', 'emg_dataset\\\\S7_60_DF.otb+_decomp.mat_edited.mat', 'emg_dataset\\\\S7_70_DF.otb+_decomp.mat_edited.mat', 'emg_dataset\\\\S7_80_DF.otb+_decomp.mat_edited.mat', 'emg_dataset\\\\S8_10_DF.otb+_decomp.mat_edited.mat', 'emg_dataset\\\\S8_20_DF.otb+_decomp.mat_edited.mat', 'emg_dataset\\\\S8_30_DF.otb+_decomp.mat_edited.mat', 'emg_dataset\\\\S8_40_DF.otb+_decomp.mat_edited.mat', 'emg_dataset\\\\S8_50_DF.otb+_decomp.mat_edited.mat', 'emg_dataset\\\\S8_60_DF.otb+_decomp.mat_edited.mat', 'emg_dataset\\\\S8_70_DF.otb+_decomp.mat_edited.mat', 'emg_dataset\\\\S8_80_DF.otb+_decomp.mat_edited.mat']\n"
     ]
    }
   ],
   "source": [
    "print(count)\n",
    "print(valid_files)"
   ]
  },
  {
   "cell_type": "code",
   "execution_count": 31,
   "metadata": {
    "metadata": {}
   },
   "outputs": [
    {
     "name": "stdout",
     "output_type": "stream",
     "text": [
      "emg_dataset\\S11_10_KE.otb+_decomp.mat_edited.mat\n",
      "emg_dataset\\S11_20_KE.otb+_decomp.mat_edited.mat\n",
      "emg_dataset\\S11_30_KE.otb+_decomp.mat_edited.mat\n",
      "emg_dataset\\S11_40_KE.otb+_decomp.mat_edited.mat\n",
      "emg_dataset\\S11_50_KE.otb+_decomp.mat_edited.mat\n",
      "emg_dataset\\S11_60_KE.otb+_decomp.mat_edited.mat\n",
      "emg_dataset\\S11_70_KE.otb+_decomp.mat_edited.mat\n",
      "emg_dataset\\S11_80_KE.otb+_decomp.mat_edited.mat\n",
      "emg_dataset\\S12_10_KE.otb+_decomp.mat_edited.mat\n",
      "emg_dataset\\S12_20_KE.otb+_decomp.mat_edited.mat\n",
      "emg_dataset\\S12_30_KE.otb+_decomp.mat_edited.mat\n",
      "emg_dataset\\S12_40_KE.otb+_decomp.mat_edited.mat\n",
      "emg_dataset\\S12_50_KE.otb+_decomp.mat_edited.mat\n",
      "emg_dataset\\S12_60_KE.otb+_decomp.mat_edited.mat\n",
      "emg_dataset\\S12_70_KE.otb+_decomp.mat_edited.mat\n",
      "emg_dataset\\S12_80_KE.otb+_decomp.mat_edited.mat\n",
      "emg_dataset\\S13_10_KE.otb+_decomp.mat_edited.mat\n",
      "emg_dataset\\S13_20_KE.otb+_decomp.mat_edited.mat\n",
      "emg_dataset\\S13_30_KE.otb+_decomp.mat_edited.mat\n",
      "emg_dataset\\S13_40_KE.otb+_decomp.mat_edited.mat\n",
      "emg_dataset\\S13_50_KE.otb+_decomp.mat_edited.mat\n",
      "emg_dataset\\S13_60_KE.otb+_decomp.mat_edited.mat\n",
      "emg_dataset\\S13_70_KE.otb+_decomp.mat_edited.mat\n",
      "emg_dataset\\S13_80_KE.otb+_decomp.mat_edited.mat\n",
      "emg_dataset\\S14_10_KE.otb+_decomp.mat_edited.mat\n",
      "emg_dataset\\S14_20_KE.otb+_decomp.mat_edited.mat\n",
      "emg_dataset\\S14_30_KE.otb+_decomp.mat_edited.mat\n",
      "emg_dataset\\S14_40_KE.otb+_decomp.mat_edited.mat\n",
      "emg_dataset\\S14_50_KE.otb+_decomp.mat_edited.mat\n",
      "emg_dataset\\S14_60_KE.otb+_decomp.mat_edited.mat\n",
      "emg_dataset\\S14_70_KE.otb+_decomp.mat_edited.mat\n",
      "emg_dataset\\S14_80_KE.otb+_decomp.mat_edited.mat\n",
      "emg_dataset\\S15_10_KE.otb+_decomp.mat_edited.mat\n",
      "emg_dataset\\S15_20_KE.otb+_decomp.mat_edited.mat\n",
      "emg_dataset\\S15_30_KE.otb+_decomp.mat_edited.mat\n",
      "emg_dataset\\S15_40_KE.otb+_decomp.mat_edited.mat\n",
      "emg_dataset\\S15_80_KE.otb+_decomp.mat_edited.mat\n",
      "emg_dataset\\S17_10_KE.otb+_decomp.mat_edited.mat\n",
      "emg_dataset\\S17_30_KE.otb+_decomp.mat_edited.mat\n",
      "emg_dataset\\S17_50_KE.otb+_decomp.mat_edited.mat\n",
      "emg_dataset\\S17_60_KE.otb+_decomp.mat_edited.mat\n",
      "emg_dataset\\S17_70_KE.otb+_decomp.mat_edited.mat\n",
      "emg_dataset\\S17_80_KE.otb+_decomp.mat_edited.mat\n",
      "emg_dataset\\S1_10_DF.otb+_decomp.mat_edited.mat\n",
      "emg_dataset\\S1_20_DF.otb+_decomp.mat_edited.mat\n",
      "emg_dataset\\S1_30_DF.otb+_decomp.mat_edited.mat\n",
      "emg_dataset\\S1_40_DF.otb+_decomp.mat_edited.mat\n",
      "emg_dataset\\S1_50_DF.otb+_decomp.mat_edited.mat\n",
      "emg_dataset\\S1_60_DF.otb+_decomp.mat_edited.mat\n",
      "emg_dataset\\S1_70_DF.otb+_decomp.mat_edited.mat\n",
      "emg_dataset\\S1_80_DF.otb+_decomp.mat_edited.mat\n",
      "emg_dataset\\S2_10_DF.otb+_decomp.mat_edited.mat\n",
      "emg_dataset\\S2_20_DF.otb+_decomp.mat_edited.mat\n",
      "emg_dataset\\S2_30_DF.otb+_decomp.mat_edited.mat\n",
      "emg_dataset\\S2_40_DF.otb+_decomp.mat_edited.mat\n",
      "emg_dataset\\S2_50_DF.otb+_decomp.mat_edited.mat\n",
      "emg_dataset\\S2_60_DF.otb+_decomp.mat_edited.mat\n",
      "emg_dataset\\S2_70_DF.otb+_decomp.mat_edited.mat\n",
      "emg_dataset\\S2_80_DF.otb+_decomp.mat_edited.mat\n",
      "emg_dataset\\S3_10_DF.otb+_decomp.mat_edited.mat\n",
      "emg_dataset\\S3_20_DF.otb+_decomp.mat_edited.mat\n",
      "emg_dataset\\S3_30_DF.otb+_decomp.mat_edited.mat\n",
      "emg_dataset\\S3_40_DF.otb+_decomp.mat_edited.mat\n",
      "emg_dataset\\S3_50_DF.otb+_decomp.mat_edited.mat\n",
      "emg_dataset\\S3_60_DF.otb+_decomp.mat_edited.mat\n",
      "emg_dataset\\S3_70_DF.otb+_decomp.mat_edited.mat\n",
      "emg_dataset\\S3_80_DF.otb+_decomp.mat_edited.mat\n",
      "emg_dataset\\S4_20_DF.otb+_decomp_edited.mat\n",
      "emg_dataset\\S4_30_DF.otb+_decomp_edited.mat\n",
      "emg_dataset\\S4_40_DF.otb+_decomp_edited.mat\n",
      "emg_dataset\\S4_70_DF.otb+_decomp_edited.mat\n",
      "emg_dataset\\S4_80_DF.otb+_decomp_edited.mat\n",
      "emg_dataset\\S5_10_DF.otb+_decomp.mat_edited.mat\n",
      "emg_dataset\\S5_20_DF.otb+_decomp.mat_edited.mat\n",
      "emg_dataset\\S5_30_DF.otb+_decomp.mat_edited.mat\n",
      "emg_dataset\\S5_40_DF.otb+_decomp.mat_edited.mat\n",
      "emg_dataset\\S5_50_DF.otb+_decomp.mat_edited.mat\n",
      "emg_dataset\\S5_60_DF.otb+_decomp.mat_edited.mat\n",
      "emg_dataset\\S5_70_DF.otb+_decomp.mat_edited.mat\n",
      "emg_dataset\\S5_80_DF.otb+_decomp.mat_edited.mat\n",
      "emg_dataset\\S6_10_DF.otb+_decomp.mat_edited.mat\n",
      "emg_dataset\\S6_20_DF.otb+_decomp.mat_edited.mat\n",
      "emg_dataset\\S6_30_DF.otb+_decomp.mat_edited.mat\n",
      "emg_dataset\\S6_40_DF.otb+_decomp.mat_edited.mat\n",
      "emg_dataset\\S6_50_DF.otb+_decomp.mat_edited.mat\n",
      "emg_dataset\\S6_60_DF.otb+_decomp.mat_edited.mat\n",
      "emg_dataset\\S6_70_DF.otb+_decomp.mat_edited.mat\n",
      "emg_dataset\\S6_80_DF.otb+_decomp.mat_edited.mat\n",
      "emg_dataset\\S7_10_DF.otb+_decomp.mat_edited.mat\n",
      "emg_dataset\\S7_20_DF.otb+_decomp.mat_edited.mat\n",
      "emg_dataset\\S7_30_DF.otb+_decomp.mat_edited.mat\n",
      "emg_dataset\\S7_40_DF.otb+_decomp.mat_edited.mat\n",
      "emg_dataset\\S7_50_DF.otb+_decomp.mat_edited.mat\n",
      "emg_dataset\\S7_60_DF.otb+_decomp.mat_edited.mat\n",
      "emg_dataset\\S7_70_DF.otb+_decomp.mat_edited.mat\n",
      "emg_dataset\\S7_80_DF.otb+_decomp.mat_edited.mat\n",
      "emg_dataset\\S8_10_DF.otb+_decomp.mat_edited.mat\n",
      "emg_dataset\\S8_20_DF.otb+_decomp.mat_edited.mat\n",
      "emg_dataset\\S8_30_DF.otb+_decomp.mat_edited.mat\n",
      "emg_dataset\\S8_40_DF.otb+_decomp.mat_edited.mat\n",
      "emg_dataset\\S8_50_DF.otb+_decomp.mat_edited.mat\n",
      "emg_dataset\\S8_60_DF.otb+_decomp.mat_edited.mat\n",
      "emg_dataset\\S8_70_DF.otb+_decomp.mat_edited.mat\n",
      "emg_dataset\\S8_80_DF.otb+_decomp.mat_edited.mat\n"
     ]
    }
   ],
   "source": [
    "for file in valid_files:\n",
    "    print(file)"
   ]
  },
  {
   "cell_type": "code",
   "execution_count": 33,
   "metadata": {
    "metadata": {}
   },
   "outputs": [
    {
     "name": "stdout",
     "output_type": "stream",
     "text": [
      "emg_dataset\\S16_10_KE.otb+_decomp.mat_edited.mat\n",
      "emg_dataset\\S16_20_KE.otb+_decomp.mat_edited.mat\n",
      "emg_dataset\\S16_30_KE.otb+_decomp.mat_edited.mat\n",
      "emg_dataset\\S16_40_KE.otb+_decomp.mat_edited.mat\n",
      "emg_dataset\\S16_50_KE.otb+_decomp.mat_edited.mat\n",
      "emg_dataset\\S16_60_KE.otb+_decomp.mat_edited.mat\n",
      "emg_dataset\\S16_70_KE.otb+_decomp.mat_edited.mat\n",
      "emg_dataset\\S17_20_KE.otb+_decomp.mat_edited.mat\n",
      "emg_dataset\\S17_40_KE.otb+_decomp.mat_edited.mat\n",
      "emg_dataset\\S18_10_KE.otb+_decomp.mat_edited.mat\n",
      "emg_dataset\\S18_20_KE.otb+_decomp.mat_edited.mat\n",
      "emg_dataset\\S18_30_KE.otb+_decomp.mat_edited.mat\n",
      "emg_dataset\\S18_40_KE.otb+_decomp.mat_edited.mat\n",
      "emg_dataset\\S18_50_KE.otb+_decomp.mat_edited.mat\n",
      "emg_dataset\\S18_60_KE.otb+_decomp.mat_edited.mat\n",
      "emg_dataset\\S18_70_KE.otb+_decomp.mat_edited.mat\n",
      "emg_dataset\\S18_80_KE.otb+_decomp.mat_edited.mat\n",
      "emg_dataset\\S4_10_DF.otb+_decomp_edited.mat\n",
      "emg_dataset\\S4_50_DF.otb+_decomp_edited.mat\n",
      "emg_dataset\\S4_60_DF.otb+_decomp_edited.mat\n"
     ]
    }
   ],
   "source": [
    "for file in invalid_files:\n",
    "    print(file)"
   ]
  },
  {
   "cell_type": "markdown",
   "metadata": {},
   "source": [
    "### spectograph processing"
   ]
  },
  {
   "cell_type": "code",
   "execution_count": 3,
   "metadata": {
    "metadata": {}
   },
   "outputs": [
    {
     "name": "stderr",
     "output_type": "stream",
     "text": [
      "C:\\Users\\savnkk\\AppData\\Roaming\\Python\\Python310\\site-packages\\torchaudio\\backend\\utils.py:74: UserWarning: No audio backend is available.\n",
      "  warnings.warn(\"No audio backend is available.\")\n"
     ]
    }
   ],
   "source": [
    "from load_data import Signal\n",
    "from scipy.signal import spectrogram\n",
    "import torchaudio\n",
    "import torch"
   ]
  },
  {
   "cell_type": "code",
   "execution_count": 4,
   "metadata": {
    "metadata": {}
   },
   "outputs": [
    {
     "data": {
      "text/plain": [
       "60"
      ]
     },
     "execution_count": 4,
     "metadata": {},
     "output_type": "execute_result"
    }
   ],
   "source": [
    "file = os.path.join(DATASET,\"S1_10_DF.otb+_decomp.mat_edited.mat\")\n",
    "datafiles.index(file)"
   ]
  },
  {
   "cell_type": "code",
   "execution_count": 5,
   "metadata": {
    "metadata": {}
   },
   "outputs": [],
   "source": [
    "sig = Signal(file)"
   ]
  },
  {
   "cell_type": "code",
   "execution_count": 7,
   "metadata": {},
   "outputs": [
    {
     "name": "stdout",
     "output_type": "stream",
     "text": [
      "20381696\n",
      "\temg_dataset\\S11_20_KE.otb+_decomp.mat_edited.mat is not a MATLAB 7.3 file. Load with scipy.io.loadmat() instead.\n",
      "\tCanot process idx=1, file='emg_dataset\\\\S11_20_KE.otb+_decomp.mat_edited.mat'\n",
      "26771456\n",
      "26378240\n",
      "23855104\n",
      "26705920\n",
      "28049408\n",
      "29261824\n",
      "20316160\n",
      "22577152\n",
      "25034752\n",
      "27262976\n",
      "23166976\n",
      "26279936\n",
      "28409856\n",
      "28704768\n",
      "20676608\n",
      "21594112\n",
      "24477696\n",
      "26836992\n",
      "22183936\n",
      "25034752\n",
      "27131904\n",
      "29327360\n",
      "21539200\n",
      "25541760\n",
      "25307765\n",
      "25982720\n",
      "24117120\n",
      "24931200\n",
      "28865920\n",
      "28187520\n",
      "20996480\n",
      "23845760\n",
      "25847040\n",
      "27136000\n",
      "30561920\n",
      "21335680\n",
      "23065600\n",
      "25440000\n",
      "29239040\n",
      "24490240\n",
      "27102080\n",
      "28051840\n",
      "21200896\n",
      "23330816\n",
      "26083328\n",
      "26738688\n",
      "23330816\n",
      "25624576\n",
      "28147712\n",
      "30539776\n",
      "20860800\n",
      "23370880\n",
      "24897280\n",
      "27780480\n",
      "23777920\n",
      "26254080\n",
      "27950080\n",
      "30697600\n",
      "16616030\n",
      "18624465\n",
      "20793755\n",
      "22963575\n",
      "22182885\n",
      "24762130\n",
      "24321170\n",
      "26321390\n",
      "16481675\n",
      "18793535\n",
      "21097975\n",
      "23065070\n",
      "22795565\n",
      "25812590\n",
      "24091680\n",
      "28526455\n",
      "16691820\n",
      "18659975\n",
      "20655955\n",
      "23339610\n",
      "22455305\n",
      "25780525\n",
      "24051930\n",
      "26184915\n",
      "16330890\n",
      "18852630\n",
      "20759040\n",
      "23423615\n",
      "22461135\n",
      "24613465\n",
      "23658405\n",
      "26066725\n",
      "16862745\n",
      "18663155\n",
      "20697295\n",
      "22760585\n",
      "22111070\n",
      "24761070\n",
      "23996810\n",
      "26016640\n",
      "17562610\n",
      "19922965\n",
      "22077150\n",
      "23877295\n",
      "23447200\n",
      "25930250\n",
      "24971480\n",
      "26900415\n",
      "17335240\n",
      "20010415\n",
      "21777435\n",
      "24286720\n",
      "24385035\n",
      "25644845\n",
      "25473125\n",
      "27782070\n",
      "17330205\n",
      "20018895\n",
      "22090930\n",
      "24455790\n",
      "23508415\n",
      "26432955\n",
      "24839775\n",
      "27510180\n"
     ]
    }
   ],
   "source": [
    "samples = []\n",
    "electrodes = []\n",
    "\n",
    "for idx, file in enumerate(arr):\n",
    "    try:\n",
    "        zi = Signal(file)\n",
    "        print(zi.data.size)\n",
    "        sample, electrode = zi.data.shape \n",
    "        electrodes.append(electrode)\n",
    "        samples.append(sample)\n",
    "    except Exception as e:\n",
    "        print(f\"\\t{e}\")\n",
    "        print(f\"\\tCanot process {idx=}, {file=}\")"
   ]
  },
  {
   "cell_type": "code",
   "execution_count": 12,
   "metadata": {},
   "outputs": [
    {
     "name": "stdout",
     "output_type": "stream",
     "text": [
      "DescribeResult(nobs=123, minmax=(256, 265), mean=262.7317073170732, variance=15.394642143142741, skewness=-1.156384269253502, kurtosis=-0.6740028745957383)\n",
      "DescribeResult(nobs=123, minmax=(61626, 119296), mean=91267.9593495935, variance=170922316.0065307, skewness=-0.3025135808301116, kurtosis=-0.30354631291591305)\n"
     ]
    }
   ],
   "source": [
    "import scipy\n",
    "print(scipy.stats.describe(samples, ddof=1, bias=False))\n",
    "print(scipy.stats.describe(electrodes, ddof=1, bias=False))"
   ]
  },
  {
   "cell_type": "code",
   "execution_count": null,
   "metadata": {},
   "outputs": [],
   "source": [
    "# get shape (electrodes, samples)\n",
    "# sample 256 out of electrodes\n",
    "# pad using 119296 - samples //2 on both sides\n",
    "# apply fft\n",
    "# transform to torch tensor"
   ]
  },
  {
   "cell_type": "code",
   "execution_count": null,
   "metadata": {},
   "outputs": [],
   "source": [
    "tx = torch.tensor(zi.data)\n",
    "transform = torchaudio.transforms.Spectrogram(n_fft=2048)\n",
    "transform(tx)"
   ]
  },
  {
   "cell_type": "code",
   "execution_count": 10,
   "metadata": {},
   "outputs": [
    {
     "data": {
      "text/plain": [
       "tensor([[0., 0., 0., 0., 0., 0., 1., 0., 0.],\n",
       "        [0., 0., 0., 0., 0., 0., 1., 0., 0.]], dtype=torch.float64)"
      ]
     },
     "execution_count": 10,
     "metadata": {},
     "output_type": "execute_result"
    }
   ],
   "source": [
    "torch.nn.functional.pad(torch.tensor([[0,1],[0,1]], dtype=torch.float64),  (5,2))"
   ]
  },
  {
   "cell_type": "code",
   "execution_count": 14,
   "metadata": {},
   "outputs": [
    {
     "data": {
      "text/plain": [
       "array([[0, 0, 0, 0, 0, 0, 1, 0, 0],\n",
       "       [0, 0, 0, 0, 0, 0, 1, 0, 0]])"
      ]
     },
     "execution_count": 14,
     "metadata": {},
     "output_type": "execute_result"
    }
   ],
   "source": [
    "import numpy as np\n",
    "np.pad(np.array([[0,1],[0,1]]),  ((0,0), (5,2)))"
   ]
  },
  {
   "cell_type": "markdown",
   "metadata": {},
   "source": []
  },
  {
   "cell_type": "code",
   "execution_count": 22,
   "metadata": {},
   "outputs": [],
   "source": [
    "apply_spec = np.frompyfunc(lambda x: spectrogram(x, fs=2048), 1, 1)\n",
    "vec_spec = np.vectorize(spectrogram)"
   ]
  },
  {
   "cell_type": "code",
   "execution_count": 16,
   "metadata": {},
   "outputs": [
    {
     "name": "stdout",
     "output_type": "stream",
     "text": [
      "[217 215 163 131  69  10   4  80  46  19]\n"
     ]
    }
   ],
   "source": [
    "SEED = 0\n",
    "rng = np.random.default_rng(SEED)\n",
    "print(rng.choice(zi.data.shape[0], size=10, replace=False))\n",
    "x2 = zi.data[rng.choice(zi.data.shape[0], size=10, replace=False)]"
   ]
  },
  {
   "cell_type": "code",
   "execution_count": 18,
   "metadata": {},
   "outputs": [
    {
     "name": "stdout",
     "output_type": "stream",
     "text": [
      "(10, 103812)\n"
     ]
    }
   ],
   "source": [
    "print(x2.shape)"
   ]
  },
  {
   "cell_type": "code",
   "execution_count": 20,
   "metadata": {},
   "outputs": [
    {
     "name": "stdout",
     "output_type": "stream",
     "text": [
      "7742\n",
      "(10, 119296)\n"
     ]
    }
   ],
   "source": [
    "PAD_TARGET = 119296\n",
    "pad = (PAD_TARGET - x2.shape[1])//2\n",
    "print(pad)\n",
    "x3 = np.pad(x2, ((0,0), (pad,pad)))\n",
    "print(x3.shape)"
   ]
  },
  {
   "cell_type": "code",
   "execution_count": 30,
   "metadata": {},
   "outputs": [
    {
     "name": "stdout",
     "output_type": "stream",
     "text": [
      "(10, 129, 532)\n"
     ]
    }
   ],
   "source": [
    "fin = np.zeros((10, 129, 532))\n",
    "for (idx, row) in enumerate(x3):\n",
    "    f, t, sxx = spectrogram(row, fs=2048)\n",
    "    fin[idx] = sxx\n",
    "#spec4 = vec_spec(x3, fs=2048)\n",
    "print(fin.shape)"
   ]
  },
  {
   "cell_type": "code",
   "execution_count": 31,
   "metadata": {},
   "outputs": [
    {
     "data": {
      "text/plain": [
       "dtype('float64')"
      ]
     },
     "execution_count": 31,
     "metadata": {},
     "output_type": "execute_result"
    }
   ],
   "source": [
    "fin.dtype"
   ]
  },
  {
   "cell_type": "markdown",
   "metadata": {},
   "source": [
    "### Selecting samples"
   ]
  },
  {
   "cell_type": "code",
   "execution_count": 33,
   "metadata": {},
   "outputs": [
    {
     "data": {
      "text/plain": [
       "array([161, 129,  68,  78, 214], dtype=int64)"
      ]
     },
     "execution_count": 33,
     "metadata": {},
     "output_type": "execute_result"
    }
   ],
   "source": [
    "import numpy as np\n",
    "SEED = 0\n",
    "rng = np.random.default_rng(SEED)\n",
    "rng.choice(256, size=5, replace=False)"
   ]
  },
  {
   "cell_type": "markdown",
   "metadata": {},
   "source": [
    "### testing labels"
   ]
  },
  {
   "cell_type": "code",
   "execution_count": 26,
   "metadata": {},
   "outputs": [
    {
     "name": "stdout",
     "output_type": "stream",
     "text": [
      "{'subject': '11', 'force': '10', 'task': 'KE'}\n",
      "{'subject': '11', 'force': '20', 'task': 'KE'}\n",
      "{'subject': '11', 'force': '30', 'task': 'KE'}\n",
      "{'subject': '11', 'force': '40', 'task': 'KE'}\n",
      "{'subject': '11', 'force': '50', 'task': 'KE'}\n",
      "{'subject': '11', 'force': '60', 'task': 'KE'}\n",
      "{'subject': '11', 'force': '70', 'task': 'KE'}\n",
      "{'subject': '11', 'force': '80', 'task': 'KE'}\n",
      "{'subject': '12', 'force': '10', 'task': 'KE'}\n",
      "{'subject': '12', 'force': '20', 'task': 'KE'}\n",
      "{'subject': '12', 'force': '30', 'task': 'KE'}\n",
      "{'subject': '12', 'force': '40', 'task': 'KE'}\n",
      "{'subject': '12', 'force': '50', 'task': 'KE'}\n",
      "{'subject': '12', 'force': '60', 'task': 'KE'}\n",
      "{'subject': '12', 'force': '70', 'task': 'KE'}\n",
      "{'subject': '12', 'force': '80', 'task': 'KE'}\n",
      "{'subject': '13', 'force': '10', 'task': 'KE'}\n",
      "{'subject': '13', 'force': '20', 'task': 'KE'}\n",
      "{'subject': '13', 'force': '30', 'task': 'KE'}\n",
      "{'subject': '13', 'force': '40', 'task': 'KE'}\n",
      "{'subject': '13', 'force': '50', 'task': 'KE'}\n",
      "{'subject': '13', 'force': '60', 'task': 'KE'}\n",
      "{'subject': '13', 'force': '70', 'task': 'KE'}\n",
      "{'subject': '13', 'force': '80', 'task': 'KE'}\n",
      "{'subject': '14', 'force': '10', 'task': 'KE'}\n",
      "{'subject': '14', 'force': '20', 'task': 'KE'}\n",
      "{'subject': '14', 'force': '30', 'task': 'KE'}\n",
      "{'subject': '14', 'force': '40', 'task': 'KE'}\n",
      "{'subject': '14', 'force': '50', 'task': 'KE'}\n",
      "{'subject': '14', 'force': '60', 'task': 'KE'}\n",
      "{'subject': '14', 'force': '70', 'task': 'KE'}\n",
      "{'subject': '14', 'force': '80', 'task': 'KE'}\n",
      "{'subject': '15', 'force': '10', 'task': 'KE'}\n",
      "{'subject': '15', 'force': '20', 'task': 'KE'}\n",
      "{'subject': '15', 'force': '30', 'task': 'KE'}\n",
      "{'subject': '15', 'force': '40', 'task': 'KE'}\n",
      "{'subject': '15', 'force': '80', 'task': 'KE'}\n",
      "{'subject': '16', 'force': '10', 'task': 'KE'}\n",
      "{'subject': '16', 'force': '20', 'task': 'KE'}\n",
      "{'subject': '16', 'force': '30', 'task': 'KE'}\n",
      "{'subject': '16', 'force': '40', 'task': 'KE'}\n",
      "{'subject': '16', 'force': '50', 'task': 'KE'}\n",
      "{'subject': '16', 'force': '60', 'task': 'KE'}\n",
      "{'subject': '16', 'force': '70', 'task': 'KE'}\n",
      "{'subject': '17', 'force': '10', 'task': 'KE'}\n",
      "{'subject': '17', 'force': '20', 'task': 'KE'}\n",
      "{'subject': '17', 'force': '30', 'task': 'KE'}\n",
      "{'subject': '17', 'force': '40', 'task': 'KE'}\n",
      "{'subject': '17', 'force': '50', 'task': 'KE'}\n",
      "{'subject': '17', 'force': '60', 'task': 'KE'}\n",
      "{'subject': '17', 'force': '70', 'task': 'KE'}\n",
      "{'subject': '17', 'force': '80', 'task': 'KE'}\n",
      "{'subject': '18', 'force': '10', 'task': 'KE'}\n",
      "{'subject': '18', 'force': '20', 'task': 'KE'}\n",
      "{'subject': '18', 'force': '30', 'task': 'KE'}\n",
      "{'subject': '18', 'force': '40', 'task': 'KE'}\n",
      "{'subject': '18', 'force': '50', 'task': 'KE'}\n",
      "{'subject': '18', 'force': '60', 'task': 'KE'}\n",
      "{'subject': '18', 'force': '70', 'task': 'KE'}\n",
      "{'subject': '18', 'force': '80', 'task': 'KE'}\n",
      "{'subject': '1', 'force': '10', 'task': 'DF'}\n",
      "{'subject': '1', 'force': '20', 'task': 'DF'}\n",
      "{'subject': '1', 'force': '30', 'task': 'DF'}\n",
      "{'subject': '1', 'force': '40', 'task': 'DF'}\n",
      "{'subject': '1', 'force': '50', 'task': 'DF'}\n",
      "{'subject': '1', 'force': '60', 'task': 'DF'}\n",
      "{'subject': '1', 'force': '70', 'task': 'DF'}\n",
      "{'subject': '1', 'force': '80', 'task': 'DF'}\n",
      "{'subject': '2', 'force': '10', 'task': 'DF'}\n",
      "{'subject': '2', 'force': '20', 'task': 'DF'}\n",
      "{'subject': '2', 'force': '30', 'task': 'DF'}\n",
      "{'subject': '2', 'force': '40', 'task': 'DF'}\n",
      "{'subject': '2', 'force': '50', 'task': 'DF'}\n",
      "{'subject': '2', 'force': '60', 'task': 'DF'}\n",
      "{'subject': '2', 'force': '70', 'task': 'DF'}\n",
      "{'subject': '2', 'force': '80', 'task': 'DF'}\n",
      "{'subject': '3', 'force': '10', 'task': 'DF'}\n",
      "{'subject': '3', 'force': '20', 'task': 'DF'}\n",
      "{'subject': '3', 'force': '30', 'task': 'DF'}\n",
      "{'subject': '3', 'force': '40', 'task': 'DF'}\n",
      "{'subject': '3', 'force': '50', 'task': 'DF'}\n",
      "{'subject': '3', 'force': '60', 'task': 'DF'}\n",
      "{'subject': '3', 'force': '70', 'task': 'DF'}\n",
      "{'subject': '3', 'force': '80', 'task': 'DF'}\n",
      "{'subject': '4', 'force': '10', 'task': 'DF'}\n",
      "{'subject': '4', 'force': '20', 'task': 'DF'}\n",
      "{'subject': '4', 'force': '30', 'task': 'DF'}\n",
      "{'subject': '4', 'force': '40', 'task': 'DF'}\n",
      "{'subject': '4', 'force': '50', 'task': 'DF'}\n",
      "{'subject': '4', 'force': '60', 'task': 'DF'}\n",
      "{'subject': '4', 'force': '70', 'task': 'DF'}\n",
      "{'subject': '4', 'force': '80', 'task': 'DF'}\n",
      "{'subject': '5', 'force': '10', 'task': 'DF'}\n",
      "{'subject': '5', 'force': '20', 'task': 'DF'}\n",
      "{'subject': '5', 'force': '30', 'task': 'DF'}\n",
      "{'subject': '5', 'force': '40', 'task': 'DF'}\n",
      "{'subject': '5', 'force': '50', 'task': 'DF'}\n",
      "{'subject': '5', 'force': '60', 'task': 'DF'}\n",
      "{'subject': '5', 'force': '70', 'task': 'DF'}\n",
      "{'subject': '5', 'force': '80', 'task': 'DF'}\n",
      "{'subject': '6', 'force': '10', 'task': 'DF'}\n",
      "{'subject': '6', 'force': '20', 'task': 'DF'}\n",
      "{'subject': '6', 'force': '30', 'task': 'DF'}\n",
      "{'subject': '6', 'force': '40', 'task': 'DF'}\n",
      "{'subject': '6', 'force': '50', 'task': 'DF'}\n",
      "{'subject': '6', 'force': '60', 'task': 'DF'}\n",
      "{'subject': '6', 'force': '70', 'task': 'DF'}\n",
      "{'subject': '6', 'force': '80', 'task': 'DF'}\n",
      "{'subject': '7', 'force': '10', 'task': 'DF'}\n",
      "{'subject': '7', 'force': '20', 'task': 'DF'}\n",
      "{'subject': '7', 'force': '30', 'task': 'DF'}\n",
      "{'subject': '7', 'force': '40', 'task': 'DF'}\n",
      "{'subject': '7', 'force': '50', 'task': 'DF'}\n",
      "{'subject': '7', 'force': '60', 'task': 'DF'}\n",
      "{'subject': '7', 'force': '70', 'task': 'DF'}\n",
      "{'subject': '7', 'force': '80', 'task': 'DF'}\n",
      "{'subject': '8', 'force': '10', 'task': 'DF'}\n",
      "{'subject': '8', 'force': '20', 'task': 'DF'}\n",
      "{'subject': '8', 'force': '30', 'task': 'DF'}\n",
      "{'subject': '8', 'force': '40', 'task': 'DF'}\n",
      "{'subject': '8', 'force': '50', 'task': 'DF'}\n",
      "{'subject': '8', 'force': '60', 'task': 'DF'}\n",
      "{'subject': '8', 'force': '70', 'task': 'DF'}\n",
      "{'subject': '8', 'force': '80', 'task': 'DF'}\n"
     ]
    }
   ],
   "source": [
    "from load_data import Label\n",
    "for file in arr:\n",
    "    L = Label(os.path.basename(file))\n",
    "    print(L.__dict__)"
   ]
  },
  {
   "cell_type": "markdown",
   "metadata": {},
   "source": [
    "# plot"
   ]
  },
  {
   "cell_type": "code",
   "execution_count": 1,
   "metadata": {},
   "outputs": [
    {
     "data": {
      "image/png": "[encoded data removed]",
      "text/plain": [
       "<Figure size 640x480 with 1 Axes>"
      ]
     },
     "metadata": {},
     "output_type": "display_data"
    }
   ],
   "source": [
    "import matplotlib.pyplot as plt\n",
    "data = [0.6611701250076294, 0.6596659421920776, 0.6581679582595825, 0.656676173210144, 0.6551902890205383, 0.653710663318634, 0.652237057685852, 0.6507697105407715, 0.6493083238601685, 0.6478532552719116, 0.6464041471481323, 0.644961416721344, 0.6435246467590332, 0.6420940160751343, 0.640669584274292, 0.6392513513565063, 0.6378392577171326, 0.6364333033561707, 0.6350336074829102, 0.6336399912834167, 0.63225257396698, 0.6308713555335999, 0.6294963955879211, 0.6281275153160095, 0.6267648339271545, 0.6254082918167114, 0.6240578889846802, 0.6227136254310608, 0.621375560760498, 0.6200435757637024, 0.6187176704406738, 0.6173978447914124, 0.6160842180252075, 0.6147767305374146, 0.6134751439094543, 0.6121796369552612, 0.6108903884887695, 0.6096071004867554, 0.6083298921585083, 0.6070586442947388, 0.6057935357093811, 0.6045343279838562, 0.6032811403274536, 0.6020340323448181, 0.6007928252220154, 0.5995575785636902, 0.5983282923698425, 0.5971049070358276, 0.5958874821662903, 0.5946759581565857, 0.5934703946113586, 0.5922706723213196, 0.5910767316818237, 0.5898886919021606, 0.5887064933776855, 0.5875301361083984, 0.5863595008850098, 0.5851947069168091, 0.5840355753898621, 0.582882285118103, 0.5817346572875977, 0.5805928111076355, 0.579456627368927, 0.5783261060714722, 0.577201247215271, 0.5760819911956787, 0.5749684572219849, 0.5738603472709656, \n",
    "0.5727578997612, 0.5716610550880432, 0.570569634437561, 0.5694839358329773, 0.5684035420417786, 0.567328691482544, 0.5662592649459839, 0.5651952624320984, 0.564136803150177, 0.5630835890769958, 0.562035858631134, 0.5609933733940125, 0.5599563717842102, 0.5589245557785034, 0.5578980445861816, 0.5568768382072449, 0.5558608174324036, 0.5548501014709473, 0.5538445115089417, 0.5528441667556763, 0.5518488883972168, 0.5508588552474976, 0.5498738288879395, 0.548893928527832, 0.5479191541671753, 0.5469493865966797, 0.5459845662117004, 0.5450248718261719, 0.5440700650215149, 0.5431202054023743, 0.5421754121780396, 0.5412354469299316]\n",
    "plt.plot(data)\n",
    "plt.show()"
   ]
  },
  {
   "cell_type": "code",
   "execution_count": 2,
   "metadata": {},
   "outputs": [
    {
     "data": {
      "image/png": "[encoded data removed]",
      "text/plain": [
       "<Figure size 640x480 with 1 Axes>"
      ]
     },
     "metadata": {},
     "output_type": "display_data"
    }
   ],
   "source": [
    "data = [0.6611701250076294, 0.6596659421920776, 0.6581679582595825, 0.656676173210144, 0.6551902890205383, 0.653710663318634, 0.652237057685852, 0.6507697105407715, 0.6493083238601685, 0.6478532552719116, 0.6464041471481323, 0.644961416721344, 0.6435246467590332, 0.6420940160751343, 0.640669584274292, 0.6392513513565063, 0.6378392577171326, 0.6364333033561707, 0.6350336074829102, 0.6336399912834167, 0.63225257396698, 0.6308713555335999, 0.6294963955879211, 0.6281275153160095, 0.6267648339271545, 0.6254082918167114, 0.6240578889846802, 0.6227136254310608, 0.621375560760498, 0.6200435757637024, 0.6187176704406738, 0.6173978447914124, 0.6160842180252075, 0.6147767305374146, 0.6134751439094543, 0.6121796369552612, 0.6108903884887695, 0.6096071004867554, 0.6083298921585083, 0.6070586442947388, 0.6057935357093811, 0.6045343279838562, 0.6032811403274536, 0.6020340323448181, 0.6007928252220154, 0.5995575785636902, 0.5983282923698425, 0.5971049070358276, 0.5958874821662903, 0.5946759581565857, 0.5934703946113586, 0.5922706723213196, 0.5910767316818237, 0.5898886919021606, 0.5887064933776855, 0.5875301361083984, 0.5863595008850098, 0.5851947069168091, 0.5840355753898621, 0.582882285118103, 0.5817346572875977, 0.5805928111076355, 0.579456627368927, 0.5783261060714722, 0.577201247215271, 0.5760819911956787, 0.5749684572219849, 0.5738603472709656, \n",
    "0.5727578997612, 0.5716610550880432, 0.570569634437561, 0.5694839358329773, 0.5684035420417786, 0.567328691482544, 0.5662592649459839, 0.5651952624320984, 0.564136803150177, 0.5630835890769958, 0.562035858631134, 0.5609933733940125, 0.5599563717842102, 0.5589245557785034, 0.5578980445861816, 0.5568768382072449, 0.5558608174324036, 0.5548501014709473, 0.5538445115089417, 0.5528441667556763, 0.5518488883972168, 0.5508588552474976, 0.5498738288879395, 0.548893928527832, 0.5479191541671753, 0.5469493865966797, 0.5459845662117004, 0.5450248718261719, 0.5440700650215149, 0.5431202054023743, 0.5421754121780396, 0.5412354469299316, 0.5403002500534058, 0.539370059967041, 0.5384446382522583, 0.5375241041183472, 0.5366083383560181, 0.535697340965271, 0.534791111946106, 0.5338895916938782, 0.5329927206039429, 0.5321005582809448, 0.531213104724884, 0.5303303003311157, 0.5294520258903503, 0.5285784006118774, 0.5277092456817627, 0.5268447995185852, 0.5259847640991211, 0.5251291990280151, 0.5242781639099121, 0.5234315991401672, 0.5225894451141357, 0.5217517614364624, 0.5209183692932129, 0.520089328289032, 0.5192646980285645, 0.5184443593025208, 0.5176283121109009, 0.5168164968490601, 0.5160090327262878, 0.5152057409286499, 0.5144066214561462, 0.5136116743087769, 0.5128208994865417, 0.5120343565940857, 0.5112518072128296, 0.5104734301567078, 0.5096991062164307, 0.5089288353919983, 0.5081625580787659, 0.507400393486023, 0.5066420435905457, 0.5058877468109131, 0.5051374435424805, 0.5043910145759583, 0.5036484003067017, 0.502909779548645, 0.502174973487854, 0.5014439821243286, 0.5007168054580688, 0.4999934732913971, 0.4992739260196686, 0.49855804443359375, 0.4978458881378174, 0.49713754653930664, 0.4964327812194824, 0.49573174118995667, 0.4950343072414398, 0.49434056878089905, 0.4936503469944, 0.4929637908935547, 0.49228066205978394, 0.49160122871398926, 0.49092531204223633, 0.49025288224220276, 0.4895838797092438, 0.48891839385032654, 0.4882563650608063, 0.4875977039337158, 0.48694247007369995, 0.4862906336784363, 0.48564213514328003, 0.484997034072876, 0.48435527086257935, 0.48371678590774536, 0.483081579208374, 0.4824496805667877, 0.4818210005760193, 0.4811955392360687, 0.4805733561515808, 0.4799543023109436, 0.47933846712112427, 0.47872576117515564, 0.4781162738800049, 0.47750982642173767, 0.47690653800964355, 0.4763062596321106, 0.47570911049842834, 0.47511500120162964, 0.47452396154403687, 0.4739358425140381, 0.47335085272789, 0.47276878356933594, 0.47218960523605347, 0.47161346673965454, 0.4710402488708496, 0.4704698920249939, 0.4699024558067322, 0.46933794021606445, 0.4687761664390564, 0.4682173728942871, 0.4676613211631775, 0.4671081602573395, 0.46655768156051636, 0.46601009368896484, 0.4654652178287506, 0.46492305397987366, 0.46438369154930115, 0.46384698152542114, 0.46331295371055603, 0.4627816081047058, 0.46225300431251526, 0.4617270529270172, 0.4612036645412445, 0.4606829583644867, 0.46016478538513184, 0.4596492350101471, 0.4591362476348877, 0.4586258828639984, 0.4581180214881897, 0.45761269330978394, 0.4571097791194916, 0.45660948753356934, 0.4561116695404053, 0.455616295337677, 0.4551233649253845, \n",
    "0.45463284850120544, 0.45414480566978455, 0.45365914702415466, 0.45317593216896057, 0.4526950716972351, 0.45221662521362305, 0.45174044370651245, 0.45126667618751526, 0.45079511404037476, 0.45032602548599243, 0.4498591423034668, 0.4493946135044098, 0.44893231987953186, 0.448472261428833, 0.44801443815231323, 0.4475588798522949, 0.4471055865287781, 0.44665446877479553, 0.4462055265903473, 0.44575875997543335, 0.4453142285346985, 0.44487181305885315, 0.44443148374557495, 0.44399338960647583, 0.4435573220252991, 0.4431234300136566, 0.4426915645599365, 0.44226184487342834, 0.44183415174484253, 0.44140854477882385, 0.44098496437072754, 0.4405633807182312, 0.440143883228302, 0.43972641229629517, 0.43931087851524353, 0.4388973116874695, 0.4384858012199402, 0.4380761981010437, 0.4376685619354248, 0.4372629225254059, 0.436859130859375, 0.4364573061466217, 0.43605732917785645, 0.4356593191623688, \n",
    "0.43526309728622437, 0.43486887216567993, 0.43447643518447876, 0.4340858459472656, 0.43369707465171814, 0.43331021070480347, 0.43292513489723206, 0.4325418472290039, 0.4321603775024414, 0.4317806661128998, 0.4314027726650238, 0.4310266375541687, 0.43065229058265686, 0.4302796721458435, 0.42990875244140625, 0.42953962087631226, 0.4291721284389496, 0.4288063943386078, 0.4284423887729645, 0.4280800223350525, 0.4277192950248718, 0.4273603558540344, 0.4270029664039612, 0.42664724588394165, 0.42629319429397583, 0.4259408116340637, 0.4255899488925934, 0.42524081468582153, 0.42489320039749146, 0.4245471954345703, 0.42420274019241333, 0.42385992407798767, 0.42351871728897095, 0.4231789708137512, 0.42284074425697327, 0.42250412702560425, 0.422169029712677, 0.4218354821205139, 0.4215034544467926, 0.4211728572845459, 0.42084383964538574, 0.42051631212234497, 0.4201901853084564, 0.41986554861068726, \n",
    "0.4195424020290375, 0.4192206859588623, 0.41890043020248413, 0.41858163475990295, 0.4182642996311188, 0.41794830560684204, 0.4176338315010071, 0.4173206388950348, 0.4170089364051819, 0.41669851541519165, 0.4163895547389984, 0.4160819947719574, 0.4157758355140686, 0.4154709279537201, 0.4151674211025238, 0.41486531496047974, 0.41456443071365356, 0.4142649173736572, 0.41396674513816833, 0.4136699140071869, 0.4133743345737457, 0.41308003664016724, 0.4127871096134186, 0.4124954640865326, 0.4122050404548645, 0.41191592812538147, 0.4116280674934387, 0.41134148836135864, 0.4110561013221741, 0.4107719957828522, 0.41048917174339294, 0.41020750999450684, 0.4099270701408386, 0.4096478819847107, 0.4093698561191559, 0.40909314155578613, 0.4088175892829895, 0.40854310989379883, 0.4082699716091156, 0.40799790620803833, 0.40772709250450134, 0.40745729207992554, 0.4071888327598572, 0.40692138671875, 0.4066551625728607, 0.4063900411128998, 0.4061260223388672, 0.4058631956577301, 0.40560150146484375, 0.40534085035324097, 0.4050814211368561, 0.40482297539711, 0.40456563234329224, 0.4043094515800476, 0.40405431389808655, 0.4038003087043762, 0.4035472869873047, 0.4032954275608063, 0.40304452180862427, 0.402794748544693, 0.4025459885597229, 0.40229830145835876, 0.4020516276359558, 0.4018060266971588, 0.4015614092350006, 0.4013177752494812, 0.4010753035545349, 0.40083369612693787, 0.40059319138526917, 0.4003536105155945, 0.40011507272720337, 0.39987754821777344, 0.39964091777801514, 0.3994053602218628, 0.39917072653770447, 0.39893707633018494, 0.3987043797969818, 0.39847269654273987, 0.39824187755584717, 0.39801210165023804, 0.39778321981430054, 0.39755526185035706, 0.3973281979560852, 0.3971021771430969, 0.3968769907951355, 0.3966527581214905, 0.3964294493198395, 0.3962070345878601, 0.39598554372787476, 0.39576488733291626, 0.39554524421691895, 0.3953263759613037, 0.39510849118232727, 0.3948914110660553, 0.39467525482177734, 0.39445990324020386, 0.3942454755306244, 0.39403191208839417, 0.3938191831111908, 0.39360734820365906, 0.3933963477611542, 0.39318615198135376, 0.3929768204689026, 0.39276832342147827, 0.3925607204437256, 0.392353892326355, 0.39214786887168884, 0.39194267988204956, 0.3917383551597595, 0.3915347456932068, 0.3913320004940033, 0.3911300301551819, 0.3909289240837097, 0.39072856307029724, 0.39052900671958923, 0.3903302550315857, 0.39013221859931946, 0.3899350166320801, 0.3897385597229004, 0.3895428776741028, 0.38934797048568726, 0.3891538679599762, 0.38896048069000244, 0.38876786828041077, 0.3885759711265564, 0.3883848786354065, 0.3881944417953491, 0.3880048394203186, 0.3878158926963806, 0.3876277804374695, 0.3874403238296509, 0.3872535824775696, 0.38706761598587036, 0.38688233494758606, 0.3866977393627167, 0.3865138590335846, 0.3863307535648346, 0.3861483335494995, 0.38596656918525696, 0.3857855200767517, 0.38560521602630615, 0.38542553782463074, 0.38524654507637024, 0.38506823778152466, 0.384890615940094, 0.38471370935440063, 0.3845374286174774, 0.3843618333339691, 0.38418692350387573, 0.3840126395225525, 0.38383907079696655, 0.38366609811782837, 0.3834937512874603, 0.383322149515152, 0.38315117359161377, 0.3829808235168457, 0.3828110992908478, 0.38264200091362, 0.3824736177921295, 0.38230574131011963, 0.38213855028152466, 0.3819720149040222, 0.38180607557296753, 0.381640762090683, 0.38147610425949097, 0.38131198287010193, 0.38114848732948303, 0.3809856176376343, 0.3808233141899109, 0.3806616961956024, 0.3805006444454193, 0.3803401589393616, 0.3801802694797516, 0.38002100586891174, 0.3798622488975525, 0.37970417737960815, 0.3795466125011444, 0.3793896734714508, 0.3792332410812378, 0.37907740473747253, 0.3789222240447998, 0.37876754999160767, 0.3786134123802185, 0.3784598708152771, 0.37830689549446106, 0.378154456615448, 0.3780025839805603, 0.377851277589798, 0.37770047783851624, 0.37755027413368225, 0.37740057706832886, 0.37725141644477844, 0.3771028220653534, 0.37695473432540894, 0.37680718302726746, 0.37666016817092896, 0.37651368975639343, 0.3763677477836609, 0.37622231245040894, 0.3760773837566376, 0.3759330213069916, 0.3757891356945038, 0.37564581632614136, 0.37550291419029236, 0.3753605782985687, 0.3752187192440033, 0.37507739663124084, 0.374936580657959, 0.3747962415218353, 0.37465643882751465, \n",
    "0.3745170831680298, 0.3743782043457031, 0.37423986196517944, 0.37410199642181396, 0.3739646077156067, 0.3738276958465576, 0.37369129061698914, 0.37355533242225647, 0.3734199106693268, 0.3732849061489105, 0.3731503486633301, 0.3730162978172302, 0.37288278341293335, 0.3727496564388275, 0.3726169764995575, 0.37248480319976807, 0.37235310673713684, 0.37222179770469666, 0.37209102511405945, 0.37196069955825806, 0.3718307316303253, 0.37170127034187317, 0.37157225608825684, 0.3714436888694763, 0.3713155686855316, 0.37118786573410034, 0.37106063961982727, 0.3709338307380676, 0.3708074390888214, 0.370681494474411, 0.3705559968948364, 0.3704308867454529, 0.37030622363090515, 0.3701820373535156, 0.37005823850631714, 0.3699348270893097, 0.3698118329048157, 0.36968931555747986, 0.36956721544265747, 0.36944547295570374, 0.3693241775035858, 0.36920326948165894, 0.3690827488899231, 0.36896270513534546, \n",
    "0.36884304881095886, 0.3687237799167633, 0.36860495805740356, 0.3684864044189453, 0.36836832761764526, 0.36825066804885864, 0.3681333661079407, 0.36801648139953613, 0.36789998412132263, 0.36778390407562256, 0.36766815185546875, 0.36755281686782837, 0.36743786931037903, 0.36732327938079834, 0.3672091066837311, 0.36709529161453247, 0.3669818341732025, 0.366868793964386, 0.3667560815811157, 0.3666437566280365, 0.3665317893028259, 0.3664202392101288, 0.3663090467453003, 0.36619824171066284, 0.36608773469924927, 0.3659776449203491, 0.36586785316467285, 0.3657584488391876, 0.36564943194389343, 0.3655407428741455, 0.36543241143226624, 0.3653244376182556, 0.3652168810367584, 0.3651095926761627, 0.36500269174575806, 0.36489611864089966, 0.3647898733615875, 0.36468395590782166, 0.3645784258842468, 0.36447325348854065, 0.36436837911605835, 0.3642638325691223, 0.3641596734523773, 0.3640558123588562, 0.36395227909088135, 0.36384910345077515, 0.3637462854385376, 0.36364373564720154, 0.36354154348373413, 0.363439679145813, 0.3633381724357605, 0.3632369339466095, 0.36313605308532715, 0.3630354702472687, 0.36293524503707886, 0.3628352880477905, 0.36273568868637085, 0.36263638734817505, 0.36253735423088074, 0.36243873834609985, 0.36234036087989807, 0.36224228143692017, 0.3621445596218109, 0.36204710602760315, 0.36195001006126404, 0.3618532121181488, 0.36175671219825745, 0.3616604804992676, 0.36156460642814636, 0.36146897077560425, 0.3613736629486084, 0.3612786531448364, 0.36118394136428833, 0.3610895276069641, 0.36099541187286377, 0.3609015643596649, 0.36080801486968994, 0.36071476340293884, 0.360621839761734, 0.3605291247367859, 0.3604367673397064, 0.36034467816352844, 0.36025282740592957, 0.36016130447387695, 0.3600700795650482, 0.35997912287712097, 0.3598884642124176, 0.35979804396629333, 0.35970789194107056, 0.35961809754371643, 0.35952848196029663, 0.3594391942024231, 0.35935017466545105, 0.3592613935470581, 0.3591729700565338, 0.35908472537994385, 0.35899674892425537, 0.3589090406894684, 0.35882169008255005, 0.35873451828956604, 0.3586476445198059, 0.35856103897094727, 0.35847464203834534, 0.3583885729312897, 0.3583027124404907, 0.35821717977523804, 0.35813185572624207, 0.35804682970046997, 0.357962042093277, 0.3578774929046631, 0.3577931523323059, 0.3577091097831726, 0.3576253056526184, 0.3575417995452881, 0.35745853185653687, 0.35737553238868713, 0.35729271173477173, 0.3572101593017578, 0.357127845287323, 0.35704582929611206, 0.35696396231651306, 0.3568824529647827, 0.35680118203163147, 0.3567200303077698, 0.35663920640945435, 0.356558620929718, 0.3564782738685608, 0.3563981354236603, 0.35631823539733887, 0.35623863339424133, 0.3561592102050781, 0.35607999563217163, 0.356001079082489, 0.3559223711490631, 0.35584384202957153, 0.3557656407356262, 0.35568755865097046, 0.3556097447872162, 0.3555322289466858, 0.35545483231544495, 0.355377733707428, 0.3553008437156677, 0.3552241921424866, 0.35514771938323975, 0.3550715148448944, 0.3549955487251282, 0.3549197316169739, 0.3548441529273987, 0.3547688126564026, 0.3546937108039856, 0.35461878776550293, 0.35454410314559937, 0.3544696271419525, 0.35439538955688477, \n",
    "0.35432133078575134, 0.35424745082855225, 0.35417383909225464, 0.35410046577453613, 0.3540272116661072, 0.3539542257785797, 0.35388144850730896, 0.35380885004997253, 0.35373654961586, 0.353664368391037, 0.3535924255847931, 0.3535206913948059, 0.35344910621643066, 0.35337772965431213, 0.3533066213130951, 0.3532356917858124, 0.3531649112701416, 0.3530943989753723, 0.35302406549453735, 0.3529539108276367, 0.3528839945793152, 0.3528141975402832, 0.3527446985244751, 0.35267528891563416, 0.3526061475276947, 0.35253721475601196, 0.35246846079826355, 0.3523998558521271, 0.3523314595222473, 0.3522632420063019, 0.35219526290893555, 0.35212746262550354, 0.35205987095832825, 0.3519923985004425, 0.35192516446113586, 0.35185813903808594, 0.35179123282432556, 0.3517245352268219, 0.35165804624557495, 0.35159173607826233, 0.35152557492256165, 0.35145965218544006, 0.3513938784599304, 0.3513282239437103, 0.3512628674507141, 0.35119765996932983, 0.3511326313018799, 0.3510677218437195, 0.35100308060646057, 0.3509385287761688, 0.3508742153644562, 0.3508100211620331, 0.3507460951805115, 0.35068225860595703, 0.3506186306476593, 0.3505551218986511, 0.35049188137054443, 0.3504287600517273, 0.3503658175468445, 0.3503030240535736, 0.35024040937423706, 0.3501780331134796, 0.35011571645736694, 0.35005366802215576, 0.34999173879623413, 0.3499299883842468, 0.34986838698387146, 0.3498069643974304, 0.3497457206249237, 0.34968462586402893, 0.3496236503124237, 0.34956297278404236, 0.3495022654533386, 0.34944188594818115, 0.34938159584999084, 0.34932148456573486, 0.3492615818977356, 0.3492017686367035, 0.3491421341896057, 0.3490826189517975, 0.34902334213256836, 0.3489641547203064, 0.34890514612197876, 0.34884634613990784, 0.3487876355648041, 0.3487291634082794, 0.34867072105407715, 0.3486124873161316, 0.34855446219444275, 0.34849652647972107, 0.3484387993812561, 0.3483811616897583, 0.3483237624168396, 0.3482664227485657, 0.34820929169654846, 0.3481522500514984, 0.3480953872203827, 0.3480387330055237, 0.3479821979999542, 0.34792575240135193, 0.34786948561668396, 0.3478133976459503, 0.34775739908218384, 0.3477016091346741, 0.34764593839645386, 0.3475904166698456, 0.34753504395484924, 0.34747979044914246, 0.3474246859550476, 0.3473697602748871, 0.3473149836063385, 0.3472602963447571, 0.34720578789711, 0.34715133905410767, 0.34709715843200684, 0.347042977809906, 0.34698909521102905, 0.3469352126121521, 0.34688153862953186, 0.34682804346084595, 0.3467746376991272, 0.346721351146698, 0.34666821360588074, 0.34661516547203064, 0.34656232595443726, 0.3465096354484558, 0.34645700454711914, 0.3464045524597168, 0.3463522791862488, 0.34630006551742554, 0.3462480306625366, 0.34619608521461487, 0.34614425897598267, 0.3460926115512848, 0.34604111313819885, 0.3459897041320801, 0.34593844413757324, 0.34588733315467834, 0.3458363115787506, 0.34578537940979004, 0.3457346558570862, 0.3456840217113495, 0.3456335663795471, 0.3455831706523895, 0.34553295373916626, 0.3454827666282654, 0.345432847738266, 0.345382958650589, 0.3453332483768463, 0.3452836275100708, 0.34523412585258484, 0.3451848030090332, 0.34513550996780396, 0.3450864255428314, 0.34503740072250366, 0.34498852491378784, 0.3449397683143616, 0.34489113092422485, 0.3448426127433777, 0.34479427337646484, 0.34474602341651917, 0.34469783306121826, 0.3446498513221741, 0.34460192918777466, 0.3445540964603424, 0.3445064425468445, 0.3444588780403137, 0.3444114625453949, 0.34436410665512085, 0.34431692957878113, 0.34426990151405334, 0.34422287344932556, 0.3441759943962097, 0.3441292345523834, 0.34408262372016907, 0.34403613209724426, 0.34398970007896423, 0.34394344687461853, 0.34389728307724, 0.3438512086868286, 0.3438052535057068, 0.3437593877315521, 0.3437137007713318, 0.3436680734157562, 0.3436225950717926, 0.34357720613479614, 0.34353193640708923, 0.3434867262840271, 0.3434416651725769, 0.34339672327041626, 0.34335190057754517, 0.34330716729164124, 0.3432624936103821, 0.34321799874305725, 0.343173623085022, 0.3431292474269867, 0.3430851101875305, 0.34304100275039673, 0.3429970443248749, 0.3429531455039978, 0.3429093658924103, 0.3428657054901123, 0.3428221046924591, 0.34277868270874023, 0.34273532032966614, 0.3426920771598816, 0.3426489233970642, 0.342605859041214, 0.3425629138946533, 0.3425200581550598, 0.34247732162475586, 0.34243470430374146, 0.3423921465873718, 0.34234973788261414, 0.3423074185848236, 0.34226512908935547, 0.34222304821014404, 0.3421810269355774, 0.3421390652656555, 0.3420972228050232, 0.34205543994903564, 0.3420138359069824, 0.341972291469574, 0.3419308662414551, 0.34188947081565857, 0.3418482542037964, 0.341807097196579, 0.3417660593986511, 0.34172505140304565, 0.3416842520236969, 0.34164342284202576, 0.34160280227661133, 0.3415622115135193, 0.3415217101573944, 0.34148135781288147, 0.3414410650730133, 0.34140080213546753, 0.3413607180118561, 0.3413206934928894, 0.3412807583808899, 0.34124094247817993, 0.34120121598243713, 0.3411615788936615, 0.34112200140953064, 0.3410825729370117, 0.3410431742668152, 0.3410038948059082, 0.3409647047519684, 0.3409256339073181, 0.34088659286499023, 0.3408476710319519, 0.3408088684082031, 0.3407701253890991, 0.3407314717769623, 0.340692937374115, 0.3406544327735901, 0.34061604738235474, 0.34057775139808655, 0.3405395448207855, 0.34050142765045166, 0.34046342968940735, 0.34042543172836304, 0.34038758277893066, 0.34034982323646545, 0.34031209349632263, \n",
    "0.34027451276779175, 0.34023696184158325, 0.3401995599269867, 0.34016212821006775, 0.3401249051094055, 0.34008774161338806, 0.34005069732666016, 0.34001362323760986, 0.3399767279624939, 0.3399398922920227, 0.3399031162261963, 0.33986639976501465, 0.33982986211776733, 0.33979329466819763]\n",
    "plt.plot(data)\n",
    "plt.show()"
   ]
  },
  {
   "cell_type": "code",
   "execution_count": null,
   "metadata": {},
   "outputs": [],
   "source": [
    "[0.6935572624206543, 0.6852207183837891, 0.6867473125457764, 0.6917855143547058, 0.6970922946929932, 0.685038685798645, 0.6760256290435791, 0.6855092644691467, 0.680026650428772, 0.6846727728843689, 0.6637442708015442, 0.6844070553779602, 0.6542381644248962, 0.6788780689239502, 0.682891, 0.6518638134002686, 0.6344120502471924, 0.6505677700042725, 0.6465629935264587, 0.6252520680427551, 0.6542760133743286, 0.6394336223602295, 0.6399120688438416, 0.6321120858192444, 0.6522119045257568, 0.6149529218673706, 0.6311675310134888, 0.6321025490760803, 0.6297059655189514, 0.6619, 0.6069837212562561, 0.6214492917060852, 0.6148930191993713, 0.6109727025032043, 0.5859713554382324, 0.6262899041175842, 0.618204653263092, 0.6250544786453247, 0.5947353839874268, 0.633604884147644, 0.621951162815094, 0.6231908202171326, 0.6241564154624939, 0.5841849446296692, 0.59284, 0.6114892363548279, 0.560461699962616, 0.5851641893386841, 0.5799578428268433, 0.5888291001319885, 0.5619328022003174, 0.5497485995292664, 0.5890837907791138, 0.5886642336845398, 0.5799097418785095, 0.5661957263946533, 0.5644038319587708, 0.5447830557823181, 0.5519858002662659, 0.18408, 0.5229674577713013, 0.5297206044197083, 0.551590085029602, 0.5405188798904419, 0.5661666393280029, 0.5416160821914673, 0.5504572987556458, 0.5382091999053955, 0.5463499426841736, 0.5310442447662354, 0.5439913272857666, 0.5566936135292053, 0.5579766035079956, 0.508963942527771, 08837738, 0.4957679212093353, 0.5525971055030823, 0.5083940029144287, 0.4932539761066437, 0.5091399550437927, 0.4945530593395233, 0.4951392412185669, 0.5222395062446594, 0.48669981956481934, 0.48998382687568665, 0.4705440402030945, 0.5089555978775024, 0.4940319061279297, 0.4997880458831\n",
    "0.49093878269195557, 0.47449684143066406, 0.4802819490432739, 0.48693180084228516, 0.49741560220718384, 0.458334356546402, 0.4536186158657074, 0.46818023920059204, 0.46290555596351624, 0.46999937295913696, 0.45073702931404114, 0.42200541496276855, 0.4476020932197571, 0.4870193302631378968822479, 0.4437221884727478, 0.45122361183166504, 0.4191400408744812, 0.43919867277145386, 0.4279218018054962, 0.4420439302921295, 0.4735642969608307, 0.45059046149253845, 0.4419272243976593, 0.42298629879951477, 0.424728661775589, 0.4489627480506897, 0.4431030750274658, 0.4366105794\n",
    "0.39444154500961304, 0.41422203183174133, 0.41700446605682373, 0.4071546196937561, 0.38416382670402527, 0.390325665473938, 0.41253796219825745, 0.3896052837371826, 0.3893904983997345, 0.41618043184280396, 0.41239362955093384, 0.40603217482566833, 0.3849169909954071, 0.3900933861732483,632750034332, 0.40189647674560547, 0.39191970229148865, 0.37656766176223755, 0.3735301196575165, 0.4024069309234619, 0.38884320855140686, 0.41309472918510437, 0.376960426568985, 0.3656618297100067, 0.37625953555107117, 0.385268896818161, 0.37595629692077637, 0.3731227517127991, 0.3911780365, 0.3645033538341522, 0.36370959877967834, 0.36060401797294617, 0.3599044680595398, 0.4104226529598236, 0.3787098228931427, 0.379912406206131, 0.35711997747421265, 0.3622913360595703, 0.35945433378219604, 0.3530414402484894, 0.3813866078853607, 0.37675967812538147, 0.3619916737079\n",
    "0.35694390535354614, 0.3586520552635193, 0.3683266341686249, 0.35814759135246277, 0.3710731267929077, 0.3904031813144684, 0.35754066705703735, 0.36373820900917053, 0.3608916103839874, 0.3543494939804077, 0.3625341057777405, 0.3494131863117218, 0.3481755554676056, 0.35708218812942505, 056216812134, 0.36276188492774963, 0.34725767374038696, 0.353230357170105, 0.35586512088775635, 0.35277652740478516, 0.35062962770462036, 0.37559831142425537, 0.3600322902202606, 0.34846174716949463, 0.35673677921295166, 0.3665276765823364, 0.3352082073688507, 0.34015026688575745, 0.36202472, 0.34986138343811035, 0.34630247950553894, 0.35343843698501587, 0.3436988592147827, 0.3451312780380249, 0.3566385805606842, 0.3378675878047943, 0.342201828956604, 0.35099056363105774, 0.3446463942527771, 0.34149548411369324, 0.3647667169570923, 0.33999118208885193, 0.345045268535.3384985625743866, 0.3502920866012573, 0.34516772627830505, 0.3454574644565582, 0.3423526883125305, 0.3540470600128174, 0.3454771041870117, 0.33855682611465454, 0.34002000093460083, 0.3392944633960724, 0.34258905053138733, 0.3312976062297821, 0.3422306180000305, 0.3405557870864868, 0.355094718933, 0.3341110944747925, 0.3394014835357666, 0.3363399803638458, 0.33590278029441833, 0.334044873714447, 0.3465074896812439, 0.3342495560646057, 0.35160237550735474, 0.3429867923259735, 0.334831178188324, 0.35738155245780945, 0.36557891964912415, 0.34043440222740173, 0.331905905, 0.3362112045288086, 0.32771527767181396, 0.33785444498062134, 0.3456493318080902, 0.32852572202682495, 0.33000272512435913, 0.3271949589252472, 0.3329346179962158, 0.3408122658729553, 0.33078426122665405, 0.3320024013519287, 0.32512366771698, 0.33011749386787415, 0.3316112160682678,32517051697, 0.32965323328971863, 0.3571697771549225, 0.3313762843608856, 0.3282211720943451, 0.33021074533462524, 0.33156895637512207, 0.32831379771232605, 0.33671796321868896, 0.33101794123649597, 0.33224377036094666, 0.32840877771377563, 0.3940601050853729, 0.35350844264030457, 0.3265668, 0.3274288475513458, 0.35415223240852356, 0.3253677785396576, 0.34997761249542236, 0.33351993560791016, 0.3344014883041382, 0.3289808928966522, 0.32743823528289795, 0.32189738750457764, 0.3244977593421936, 0.3302820324897766, 0.3266836702823639, 0.32807794213294983, 0.32310727238\n",
    "0.3459243178367615, 0.3260696828365326, 0.32297587394714355, 0.3242553174495697, 0.32153499126434326, 0.3419564962387085, 0.35181885957717896, 0.3518078625202179, 0.32871729135513306, 0.3243401348590851, 0.3287709653377533, 0.3250977694988251, 0.3308383822441101, 0.32891300320625305, 0649261475, 0.33375221490859985, 0.32752108573913574, 0.3218231499195099, 0.32594144344329834, 0.32215195894241333, 0.32730117440223694, 0.32930758595466614, 0.3250029385089874, 0.32353177666664124, 0.3332764804363251, 0.33279451727867126, 0.32486602663993835, 0.32490140199661255, 0.327850292206, 0.35949474573135376, 0.32241135835647583, 0.32738643884658813, 0.32110923528671265, 0.33132922649383545, 0.3220539391040802, 0.3243798613548279, 0.3246145248413086, 0.3202756643295288, 0.3235391676425934, 0.324884831905365, 0.32322296500205994, 0.32050344347953796, 0.32526512665, 0.3234613537788391, 0.3195474445819855, 0.33855298161506653, 0.3207431733608246, 0.3199627697467804, 0.3207453191280365, 0.3228364884853363, 0.3238964080810547, 0.32322385907173157, 0.32370591163635254, 0.3228202760219574, 0.32144036889076233, 0.3240421414375305, 0.32054838538169945680141449, 0.32371240854263306, 0.33487987518310547, 0.3877454400062561, 0.32314321398735046, 0.3249012529850006, 0.32979071140289307, 0.32932421565055847, 0.3227541446685791, 0.3257274329662323, 0.31901776790618896, 0.3275943994522095, 0.3215216100215912, 0.32149529457092285, 0.324403, 0.32306942343711853, 0.3225879967212677, 0.32337892055511475, 0.3292892277240753, 0.3192332983016968, 0.32146668434143066, 0.3214823007583618, 0.32069286704063416, 0.3195153772830963, 0.33239322900772095, 0.3224011957645416, 0.3282642066478729, 0.3201043903827667, 0.32256457209587.318435937166214, 0.31924697756767273, 0.3198186755180359, 0.32109159231185913, 0.31882500648498535, 0.31875157356262207, 0.32146307826042175, 0.3207254111766815, 0.3196341097354889, 0.3236353099346161, 0.3210600018501282, 0.31995412707328796, 0.3195018172264099, 0.32017242908477783, 03105869293, 0.3189608156681061, 0.3265005052089691, 0.3311823606491089, 0.3204317092895508, 0.32653820514678955, 0.32073041796684265, 0.3214658200740814, 0.3185993432998657, 0.31819435954093933, 0.32077088952064514, 0.3205435276031494, 0.32053038477897644, 0.3238394558429718, 0.3213174405, 0.34668785333633423, 0.32158026099205017, 0.32052719593048096, 0.31882861256599426, 0.3326857089996338, 0.32253825664520264, 0.3212074935436249, 0.3201565146446228, 0.3197268843650818, 0.31939131021499634, 0.3204246461391449, 0.32373693585395813, 0.3200860619544983, 0.32212510704931812018156051636, 0.3202832043170929, 0.3188687860965729, 0.3224174976348877, 0.318832129240036, 0.32310059666633606, 0.31995639204978943, 0.3174724876880646, 0.31805527210235596, 0.31806206703186035, 0.3185792565345764, 0.3209429085254669, 0.32206854224205017, 0.31814444065093994, 0.155570984, 0.31946462392807007, 0.31713879108428955, 0.3186272382736206, 0.3185865581035614, 0.31923070549964905, 0.32063689827919006, 0.34131351113319397, 0.34606462717056274, 0.3335167467594147, 0.3278140723705292, 0.3205609619617462, 0.32652419805526733, 0.3255722224712372, 0.322789241, 0.31820419430732727, 0.32053515315055847, 0.3190992772579193, 0.31766247749328613, 0.31836190819740295, 0.3181856572628021, 0.3183313310146332, 0.31872791051864624, 0.3177260756492615, 0.3184894919395447, 0.318646639585495, 0.3179953396320343, 0.3181430995464325, 0.322239935398101189672827720642, 0.3177821636199951, 0.31770971417427063, 0.3162504732608795, 0.3188997507095337, 0.317009299993515, 0.31718820333480835, 0.3168674111366272, 0.3201972246170044, 0.3197020888328552, 0.31663811206817627, 0.3207419812679291, 0.3168684244155884, 0.31777340173721313, 0.319861149597, 0.31759411096572876, 0.3172508180141449, 0.320710152387619, 0.3180166780948639, 0.3164972960948944, 0.31763458251953125, 0.3169800341129303, 0.3343847095966339, 0.317548930644989, 0.3206581175327301, 0.3202730417251587, 0.3195764422416687, 0.3179437220096588, 0.31798547506332282011151313782, 0.3159000873565674, 0.31659945845603943, 0.31831249594688416, 0.32109519839286804, 0.31859642267227173, 0.3198220431804657, 0.31698668003082275, 0.31560492515563965, 0.3171085715293884, 0.3184780776500702, 0.316089391708374, 0.3213717043399811, 0.31718844175338745, 0.31732483, 0.31773245334625244, 0.316619873046875, 0.3178783357143402, 0.31754982471466064, 0.31613677740097046, 0.3202727735042572, 0.31593453884124756, 0.31744256615638733, 0.3160211443901062, 0.317184180021286, 0.317028671503067, 0.3170269727706909, 0.3159330189228058, 0.3182825148105.31779441237449646, 0.31742361187934875, 0.3165275752544403, 0.32047080993652344, 0.31726402044296265, 0.32044628262519836, 0.3158165514469147, 0.3184714615345001, 0.3171549439430237, 0.3180781900882721, 0.3160591423511505, 0.316384494304657, 0.31615447998046875, 0.31678321957588196, 0294239044, 0.3174499273300171, 0.31852132081985474, 0.31743744015693665, 0.3164253532886505, 0.31662240624427795, 0.31638801097869873, 0.317661315202713, 0.3171633183956146, 0.31934526562690735, 0.3166188895702362, 0.3157576024532318, 0.31741851568222046, 0.31589198112487793, 0.3154467006, 0.31617408990859985, 0.3177909255027771, 0.3196399211883545, 0.3234981596469879, 0.317624032497406, 0.3162941038608551, 0.3178184926509857, 0.31695449352264404, 0.315986692905426, 0.3187291622161865, 0.32007095217704773, 0.3165457546710968, 0.3158990442752838, 0.31802043318748474,3104782104492, 0.3204069435596466, 0.31721556186676025, 0.31629428267478943, 0.3172816038131714, 0.3165077865123749, 0.31566622853279114, 0.315572589635849, 0.31832191348075867, 0.3167385458946228, 0.3204222023487091, 0.31838345527648926, 0.3164226710796356, 0.3165418207645416, 0.31590022, 0.31831493973731995, 0.31572625041007996, 0.3156583309173584, 0.31610777974128723, 0.31529539823532104, 0.32872357964515686, 0.3162708580493927, 0.31546083092689514, 0.31649309396743774, 0.32018619775772095, 0.3158074617385864, 0.31534138321876526, 0.32263386249542236, 0.318861246 0.31857505440711975, 0.31675779819488525, 0.31777897477149963, 0.31634992361068726, 0.31730976700782776, 0.31737220287323, 0.31543418765068054, 0.3161414861679077, 0.3167138993740082, 0.3279324769973755, 0.3184315860271454, 0.3159774839878082, 0.3151075541973114, 0.3150842487812042, 011761450767517, 0.31782078742980957, 0.31606876850128174, 0.3184615671634674, 0.31568580865859985, 0.3158949017524719, 0.3165651857852936, 0.31716981530189514, 0.3156580328941345, 0.31641650199890137, 0.31676456332206726, 0.3161827325820923, 0.31485098600387573, 0.3153687119483948, 0.354553, 0.31609147787094116, 0.3151836395263672, 0.31557705998420715, 0.3164542019367218, 0.31482747197151184, 0.3154839277267456, 0.3166406750679016, 0.31699278950691223, 0.3179701268672943, 0.3158324062824249, 0.3194912075996399, 0.317138671875, 0.315373957157135, 0.31694409251213074,]"
   ]
  },
  {
   "cell_type": "markdown",
   "metadata": {},
   "source": [
    "# Emperical distribution of labels"
   ]
  },
  {
   "cell_type": "code",
   "execution_count": 4,
   "metadata": {},
   "outputs": [
    {
     "name": "stdout",
     "output_type": "stream",
     "text": [
      "DescribeResult(nobs=91, minmax=(0, 1), mean=0.5274725274725275, variance=0.25201465201465206, skewness=-0.11190953781007959, kurtosis=-2.0326492980497433)\n",
      "DescribeResult(nobs=33, minmax=(0, 1), mean=0.48484848484848486, variance=0.25757575757575757, skewness=0.0635602816866953, kurtosis=-2.129032258064516)\n"
     ]
    }
   ],
   "source": [
    "import scipy\n",
    "import os\n",
    "from  load_data import Label\n",
    "TESTTRAIN_SPLIT = {\"train\": \"train_files.txt\", \"test\": \"test_files.txt\"}\n",
    "\n",
    "def label_count(mode, directory=\"np_emg_dataset\"):\n",
    "    \"\"\"\n",
    "    mode: \"train\" or \"test\"\n",
    "    transfrom: apply transformation on emg_sample to transfrom to spectogram (last function must transfrom it to a spectogram)\n",
    "    \"\"\"\n",
    "    directory = directory\n",
    "    labels = []\n",
    "\n",
    "    with open(TESTTRAIN_SPLIT[mode], \"r\") as f:\n",
    "        for emg_file in f:\n",
    "            emg_file = os.path.join(directory, emg_file.strip())\n",
    "            labels.append(int(Label(os.path.basename(emg_file)).task == 'DF')) #'DF'(1) and 'KE'(0)\n",
    "    return labels\n",
    "\n",
    "train_count = label_count(\"train\")\n",
    "test_count = label_count(\"test\")\n",
    "\n",
    "print(scipy.stats.describe(train_count, ddof=1, bias=False))\n",
    "print(scipy.stats.describe(test_count, ddof=1, bias=False))"
   ]
  },
  {
   "cell_type": "code",
   "execution_count": 6,
   "metadata": {},
   "outputs": [
    {
     "data": {
      "text/plain": [
       "'03-05-24-10_46__epoch_10__parameters_task_full.pt'"
      ]
     },
     "execution_count": 6,
     "metadata": {},
     "output_type": "execute_result"
    }
   ],
   "source": [
    "from datetime import datetime\n",
    "datetime_string =  datetime.now().strftime('%d-%m-%y-%H_%M')\n",
    "filename='parameters_task_full.pt'\n",
    "epoch =10\n",
    "f\"{datetime_string}__epoch_{epoch}__{filename}\""
   ]
  },
  {
   "cell_type": "code",
   "execution_count": 9,
   "metadata": {},
   "outputs": [],
   "source": [
    "with open(f\"{datetime_string}__losses.txt\", \"w\") as f:\n",
    "        f.write(f\"{[3,2]}\")"
   ]
  },
  {
   "cell_type": "markdown",
   "metadata": {},
   "source": [
    "### merge electrodes"
   ]
  },
  {
   "cell_type": "code",
   "execution_count": null,
   "metadata": {},
   "outputs": [],
   "source": []
  }
 ],
 "metadata": {
  "kernelspec": {
   "display_name": "Python 3",
   "language": "python",
   "name": "python3"
  },
  "language_info": {
   "codemirror_mode": {
    "name": "ipython",
    "version": 3
   },
   "file_extension": ".py",
   "mimetype": "text/x-python",
   "name": "python",
   "nbconvert_exporter": "python",
   "pygments_lexer": "ipython3",
   "version": "3.10.10"
  }
 },
 "nbformat": 4,
 "nbformat_minor": 2
}
