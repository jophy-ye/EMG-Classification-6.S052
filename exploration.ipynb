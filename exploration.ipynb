{
 "cells": [
  {
   "cell_type": "markdown",
   "metadata": {},
   "source": [
    "### setup (run before hand)"
   ]
  },
  {
   "cell_type": "code",
   "execution_count": 1,
   "metadata": {
    "metadata": {}
   },
   "outputs": [
    {
     "name": "stdout",
     "output_type": "stream",
     "text": [
      "emg_dataset\\S11_10_KE.otb+_decomp.mat_edited.mat\n"
     ]
    }
   ],
   "source": [
    "from load_data import Signal\n",
    "import cnn\n",
    "import os\n",
    "from glob import glob\n",
    "\n",
    "DATASET = \"emg_dataset\"\n",
    "glob_pattern = os.path.join(DATASET, '*')\n",
    "arr = glob(glob_pattern)\n",
    "print(arr[0])\n",
    "datafiles = arr"
   ]
  },
  {
   "cell_type": "markdown",
   "metadata": {},
   "source": [
    "### valid and invalid files"
   ]
  },
  {
   "cell_type": "code",
   "execution_count": 29,
   "metadata": {
    "metadata": {}
   },
   "outputs": [
    {
     "data": {
      "text/plain": [
       "['emg_dataset\\\\S15_40_KE.otb+_decomp.mat_edited.mat',\n",
       " 'emg_dataset\\\\S15_80_KE.otb+_decomp.mat_edited.mat',\n",
       " 'emg_dataset\\\\S16_10_KE.otb+_decomp.mat_edited.mat']"
      ]
     },
     "execution_count": 29,
     "metadata": {},
     "output_type": "execute_result"
    }
   ],
   "source": [
    "arr[arr.index(\"emg_dataset\\S15_80_KE.otb+_decomp.mat_edited.mat\") - 1: 36 + 2]"
   ]
  },
  {
   "cell_type": "code",
   "execution_count": null,
   "metadata": {},
   "outputs": [],
   "source": []
  },
  {
   "cell_type": "code",
   "execution_count": 29,
   "metadata": {
    "metadata": {}
   },
   "outputs": [
    {
     "name": "stdout",
     "output_type": "stream",
     "text": [
      "0 emg_dataset\\S11_10_KE.otb+_decomp.mat_edited.mat (256, 79616)\n",
      "1 emg_dataset\\S11_20_KE.otb+_decomp.mat_edited.mat (256, 98432)\n",
      "2 emg_dataset\\S11_30_KE.otb+_decomp.mat_edited.mat (256, 104576)\n",
      "3 emg_dataset\\S11_40_KE.otb+_decomp.mat_edited.mat (256, 103040)\n",
      "4 emg_dataset\\S11_50_KE.otb+_decomp.mat_edited.mat (256, 93184)\n",
      "5 emg_dataset\\S11_60_KE.otb+_decomp.mat_edited.mat (256, 104320)\n",
      "6 emg_dataset\\S11_70_KE.otb+_decomp.mat_edited.mat (256, 109568)\n",
      "7 emg_dataset\\S11_80_KE.otb+_decomp.mat_edited.mat (256, 114304)\n",
      "8 emg_dataset\\S12_10_KE.otb+_decomp.mat_edited.mat (256, 79360)\n",
      "9 emg_dataset\\S12_20_KE.otb+_decomp.mat_edited.mat (256, 88192)\n",
      "10 emg_dataset\\S12_30_KE.otb+_decomp.mat_edited.mat (256, 97792)\n",
      "11 emg_dataset\\S12_40_KE.otb+_decomp.mat_edited.mat (256, 106496)\n",
      "12 emg_dataset\\S12_50_KE.otb+_decomp.mat_edited.mat (256, 90496)\n",
      "13 emg_dataset\\S12_60_KE.otb+_decomp.mat_edited.mat (256, 102656)\n",
      "14 emg_dataset\\S12_70_KE.otb+_decomp.mat_edited.mat (256, 110976)\n",
      "15 emg_dataset\\S12_80_KE.otb+_decomp.mat_edited.mat (256, 112128)\n",
      "16 emg_dataset\\S13_10_KE.otb+_decomp.mat_edited.mat (256, 80768)\n",
      "17 emg_dataset\\S13_20_KE.otb+_decomp.mat_edited.mat (256, 84352)\n",
      "18 emg_dataset\\S13_30_KE.otb+_decomp.mat_edited.mat (256, 95616)\n",
      "19 emg_dataset\\S13_40_KE.otb+_decomp.mat_edited.mat (256, 104832)\n",
      "20 emg_dataset\\S13_50_KE.otb+_decomp.mat_edited.mat (256, 86656)\n",
      "21 emg_dataset\\S13_60_KE.otb+_decomp.mat_edited.mat (256, 97792)\n",
      "22 emg_dataset\\S13_70_KE.otb+_decomp.mat_edited.mat (256, 105984)\n",
      "23 emg_dataset\\S13_80_KE.otb+_decomp.mat_edited.mat (256, 114560)\n",
      "24 emg_dataset\\S14_10_KE.otb+_decomp.mat_edited.mat (265, 81280)\n",
      "25 emg_dataset\\S14_20_KE.otb+_decomp.mat_edited.mat (265, 96384)\n",
      "26 emg_dataset\\S14_30_KE.otb+_decomp.mat_edited.mat (265, 95501)\n",
      "27 emg_dataset\\S14_40_KE.otb+_decomp.mat_edited.mat (265, 98048)\n",
      "28 emg_dataset\\S14_50_KE.otb+_decomp.mat_edited.mat (265, 91008)\n",
      "29 emg_dataset\\S14_60_KE.otb+_decomp.mat_edited.mat (265, 94080)\n",
      "30 emg_dataset\\S14_70_KE.otb+_decomp.mat_edited.mat (265, 108928)\n",
      "31 emg_dataset\\S14_80_KE.otb+_decomp.mat_edited.mat (265, 106368)\n",
      "32 emg_dataset\\S15_10_KE.otb+_decomp.mat_edited.mat (265, 79232)\n",
      "33 emg_dataset\\S15_20_KE.otb+_decomp.mat_edited.mat (265, 89984)\n",
      "34 emg_dataset\\S15_30_KE.otb+_decomp.mat_edited.mat (265, 97536)\n",
      "35 emg_dataset\\S15_40_KE.otb+_decomp.mat_edited.mat (265, 102400)\n",
      "36 emg_dataset\\S15_80_KE.otb+_decomp.mat_edited.mat (265, 115328)\n",
      "\tPlease use HDF reader for matlab v7.3 files, e.g. h5py\n",
      "\tCanot process idx=37, file='emg_dataset\\\\S16_10_KE.otb+_decomp.mat_edited.mat'\n",
      "\tPlease use HDF reader for matlab v7.3 files, e.g. h5py\n",
      "\tCanot process idx=38, file='emg_dataset\\\\S16_20_KE.otb+_decomp.mat_edited.mat'\n",
      "\tPlease use HDF reader for matlab v7.3 files, e.g. h5py\n",
      "\tCanot process idx=39, file='emg_dataset\\\\S16_30_KE.otb+_decomp.mat_edited.mat'\n",
      "\tPlease use HDF reader for matlab v7.3 files, e.g. h5py\n",
      "\tCanot process idx=40, file='emg_dataset\\\\S16_40_KE.otb+_decomp.mat_edited.mat'\n",
      "\tPlease use HDF reader for matlab v7.3 files, e.g. h5py\n",
      "\tCanot process idx=41, file='emg_dataset\\\\S16_50_KE.otb+_decomp.mat_edited.mat'\n",
      "\tPlease use HDF reader for matlab v7.3 files, e.g. h5py\n",
      "\tCanot process idx=42, file='emg_dataset\\\\S16_60_KE.otb+_decomp.mat_edited.mat'\n",
      "\tPlease use HDF reader for matlab v7.3 files, e.g. h5py\n",
      "\tCanot process idx=43, file='emg_dataset\\\\S16_70_KE.otb+_decomp.mat_edited.mat'\n",
      "44 emg_dataset\\S17_10_KE.otb+_decomp.mat_edited.mat (256, 82816)\n",
      "\tPlease use HDF reader for matlab v7.3 files, e.g. h5py\n",
      "\tCanot process idx=45, file='emg_dataset\\\\S17_20_KE.otb+_decomp.mat_edited.mat'\n",
      "46 emg_dataset\\S17_30_KE.otb+_decomp.mat_edited.mat (256, 101888)\n",
      "\tPlease use HDF reader for matlab v7.3 files, e.g. h5py\n",
      "\tCanot process idx=47, file='emg_dataset\\\\S17_40_KE.otb+_decomp.mat_edited.mat'\n",
      "48 emg_dataset\\S17_50_KE.otb+_decomp.mat_edited.mat (256, 91136)\n",
      "49 emg_dataset\\S17_60_KE.otb+_decomp.mat_edited.mat (256, 100096)\n",
      "50 emg_dataset\\S17_70_KE.otb+_decomp.mat_edited.mat (256, 109952)\n",
      "51 emg_dataset\\S17_80_KE.otb+_decomp.mat_edited.mat (256, 119296)\n",
      "\tPlease use HDF reader for matlab v7.3 files, e.g. h5py\n",
      "\tCanot process idx=52, file='emg_dataset\\\\S18_10_KE.otb+_decomp.mat_edited.mat'\n",
      "\tPlease use HDF reader for matlab v7.3 files, e.g. h5py\n",
      "\tCanot process idx=53, file='emg_dataset\\\\S18_20_KE.otb+_decomp.mat_edited.mat'\n",
      "\tPlease use HDF reader for matlab v7.3 files, e.g. h5py\n",
      "\tCanot process idx=54, file='emg_dataset\\\\S18_30_KE.otb+_decomp.mat_edited.mat'\n",
      "\tPlease use HDF reader for matlab v7.3 files, e.g. h5py\n",
      "\tCanot process idx=55, file='emg_dataset\\\\S18_40_KE.otb+_decomp.mat_edited.mat'\n",
      "\tPlease use HDF reader for matlab v7.3 files, e.g. h5py\n",
      "\tCanot process idx=56, file='emg_dataset\\\\S18_50_KE.otb+_decomp.mat_edited.mat'\n",
      "\tPlease use HDF reader for matlab v7.3 files, e.g. h5py\n",
      "\tCanot process idx=57, file='emg_dataset\\\\S18_60_KE.otb+_decomp.mat_edited.mat'\n",
      "\tPlease use HDF reader for matlab v7.3 files, e.g. h5py\n",
      "\tCanot process idx=58, file='emg_dataset\\\\S18_70_KE.otb+_decomp.mat_edited.mat'\n",
      "\tPlease use HDF reader for matlab v7.3 files, e.g. h5py\n",
      "\tCanot process idx=59, file='emg_dataset\\\\S18_80_KE.otb+_decomp.mat_edited.mat'\n",
      "60 emg_dataset\\S1_10_DF.otb+_decomp.mat_edited.mat (265, 62702)\n",
      "61 emg_dataset\\S1_20_DF.otb+_decomp.mat_edited.mat (265, 70281)\n",
      "62 emg_dataset\\S1_30_DF.otb+_decomp.mat_edited.mat (265, 78467)\n",
      "63 emg_dataset\\S1_40_DF.otb+_decomp.mat_edited.mat (265, 86655)\n",
      "64 emg_dataset\\S1_50_DF.otb+_decomp.mat_edited.mat (265, 83709)\n",
      "65 emg_dataset\\S1_60_DF.otb+_decomp.mat_edited.mat (265, 93442)\n",
      "66 emg_dataset\\S1_70_DF.otb+_decomp.mat_edited.mat (265, 91778)\n",
      "67 emg_dataset\\S1_80_DF.otb+_decomp.mat_edited.mat (265, 99326)\n",
      "68 emg_dataset\\S2_10_DF.otb+_decomp.mat_edited.mat (265, 62195)\n",
      "69 emg_dataset\\S2_20_DF.otb+_decomp.mat_edited.mat (265, 70919)\n",
      "70 emg_dataset\\S2_30_DF.otb+_decomp.mat_edited.mat (265, 79615)\n",
      "71 emg_dataset\\S2_40_DF.otb+_decomp.mat_edited.mat (265, 87038)\n",
      "72 emg_dataset\\S2_50_DF.otb+_decomp.mat_edited.mat (265, 86021)\n",
      "73 emg_dataset\\S2_60_DF.otb+_decomp.mat_edited.mat (265, 97406)\n",
      "74 emg_dataset\\S2_70_DF.otb+_decomp.mat_edited.mat (265, 90912)\n",
      "75 emg_dataset\\S2_80_DF.otb+_decomp.mat_edited.mat (265, 107647)\n",
      "76 emg_dataset\\S3_10_DF.otb+_decomp.mat_edited.mat (265, 62988)\n",
      "77 emg_dataset\\S3_20_DF.otb+_decomp.mat_edited.mat (265, 70415)\n",
      "78 emg_dataset\\S3_30_DF.otb+_decomp.mat_edited.mat (265, 77947)\n",
      "79 emg_dataset\\S3_40_DF.otb+_decomp.mat_edited.mat (265, 88074)\n",
      "80 emg_dataset\\S3_50_DF.otb+_decomp.mat_edited.mat (265, 84737)\n",
      "81 emg_dataset\\S3_60_DF.otb+_decomp.mat_edited.mat (265, 97285)\n",
      "82 emg_dataset\\S3_70_DF.otb+_decomp.mat_edited.mat (265, 90762)\n",
      "83 emg_dataset\\S3_80_DF.otb+_decomp.mat_edited.mat (265, 98811)\n",
      "\tPlease use HDF reader for matlab v7.3 files, e.g. h5py\n",
      "\tCanot process idx=84, file='emg_dataset\\\\S4_10_DF.otb+_decomp_edited.mat'\n",
      "85 emg_dataset\\S4_20_DF.otb+_decomp_edited.mat (265, 71142)\n",
      "86 emg_dataset\\S4_30_DF.otb+_decomp_edited.mat (265, 78336)\n",
      "87 emg_dataset\\S4_40_DF.otb+_decomp_edited.mat (265, 88391)\n",
      "\tPlease use HDF reader for matlab v7.3 files, e.g. h5py\n",
      "\tCanot process idx=88, file='emg_dataset\\\\S4_50_DF.otb+_decomp_edited.mat'\n",
      "\tPlease use HDF reader for matlab v7.3 files, e.g. h5py\n",
      "\tCanot process idx=89, file='emg_dataset\\\\S4_60_DF.otb+_decomp_edited.mat'\n",
      "90 emg_dataset\\S4_70_DF.otb+_decomp_edited.mat (265, 89277)\n",
      "91 emg_dataset\\S4_80_DF.otb+_decomp_edited.mat (265, 98365)\n",
      "92 emg_dataset\\S5_10_DF.otb+_decomp.mat_edited.mat (265, 63633)\n",
      "93 emg_dataset\\S5_20_DF.otb+_decomp.mat_edited.mat (265, 70427)\n",
      "94 emg_dataset\\S5_30_DF.otb+_decomp.mat_edited.mat (265, 78103)\n",
      "95 emg_dataset\\S5_40_DF.otb+_decomp.mat_edited.mat (265, 85889)\n",
      "96 emg_dataset\\S5_50_DF.otb+_decomp.mat_edited.mat (265, 83438)\n",
      "97 emg_dataset\\S5_60_DF.otb+_decomp.mat_edited.mat (265, 93438)\n",
      "98 emg_dataset\\S5_70_DF.otb+_decomp.mat_edited.mat (265, 90554)\n",
      "99 emg_dataset\\S5_80_DF.otb+_decomp.mat_edited.mat (265, 98176)\n",
      "100 emg_dataset\\S6_10_DF.otb+_decomp.mat_edited.mat (265, 66274)\n",
      "101 emg_dataset\\S6_20_DF.otb+_decomp.mat_edited.mat (265, 75181)\n",
      "102 emg_dataset\\S6_30_DF.otb+_decomp.mat_edited.mat (265, 83310)\n",
      "103 emg_dataset\\S6_40_DF.otb+_decomp.mat_edited.mat (265, 90103)\n",
      "104 emg_dataset\\S6_50_DF.otb+_decomp.mat_edited.mat (265, 88480)\n",
      "105 emg_dataset\\S6_60_DF.otb+_decomp.mat_edited.mat (265, 97850)\n",
      "106 emg_dataset\\S6_70_DF.otb+_decomp.mat_edited.mat (265, 94232)\n",
      "107 emg_dataset\\S6_80_DF.otb+_decomp.mat_edited.mat (265, 101511)\n",
      "108 emg_dataset\\S7_10_DF.otb+_decomp.mat_edited.mat (265, 65416)\n",
      "109 emg_dataset\\S7_20_DF.otb+_decomp.mat_edited.mat (265, 75511)\n",
      "110 emg_dataset\\S7_30_DF.otb+_decomp.mat_edited.mat (265, 82179)\n",
      "111 emg_dataset\\S7_40_DF.otb+_decomp.mat_edited.mat (265, 91648)\n",
      "112 emg_dataset\\S7_50_DF.otb+_decomp.mat_edited.mat (265, 92019)\n",
      "113 emg_dataset\\S7_60_DF.otb+_decomp.mat_edited.mat (265, 96773)\n",
      "114 emg_dataset\\S7_70_DF.otb+_decomp.mat_edited.mat (265, 96125)\n",
      "115 emg_dataset\\S7_80_DF.otb+_decomp.mat_edited.mat (265, 104838)\n",
      "116 emg_dataset\\S8_10_DF.otb+_decomp.mat_edited.mat (265, 65397)\n",
      "117 emg_dataset\\S8_20_DF.otb+_decomp.mat_edited.mat (265, 75543)\n",
      "118 emg_dataset\\S8_30_DF.otb+_decomp.mat_edited.mat (265, 83362)\n",
      "119 emg_dataset\\S8_40_DF.otb+_decomp.mat_edited.mat (265, 92286)\n",
      "120 emg_dataset\\S8_50_DF.otb+_decomp.mat_edited.mat (265, 88711)\n",
      "121 emg_dataset\\S8_60_DF.otb+_decomp.mat_edited.mat (265, 99747)\n",
      "122 emg_dataset\\S8_70_DF.otb+_decomp.mat_edited.mat (265, 93735)\n",
      "123 emg_dataset\\S8_80_DF.otb+_decomp.mat_edited.mat (265, 103812)\n"
     ]
    }
   ],
   "source": [
    "count = 0\n",
    "valid_files = []\n",
    "invalid_files = []\n",
    "for idx, file in enumerate(arr):\n",
    "    file_idx = 36 + idx\n",
    "    try:\n",
    "        zi = Signal(file)\n",
    "        #print(idx, file, zi.data.shape)\n",
    "        count += 1\n",
    "        valid_files.append(file)\n",
    "    except Exception as e:\n",
    "        print(f\"\\t{e}\")\n",
    "        print(f\"\\tCanot process {idx=}, {file=}\")\n",
    "        invalid_files.append(file)"
   ]
  },
  {
   "cell_type": "code",
   "execution_count": 30,
   "metadata": {
    "metadata": {}
   },
   "outputs": [
    {
     "name": "stdout",
     "output_type": "stream",
     "text": [
      "104\n",
      "['emg_dataset\\\\S11_10_KE.otb+_decomp.mat_edited.mat', 'emg_dataset\\\\S11_20_KE.otb+_decomp.mat_edited.mat', 'emg_dataset\\\\S11_30_KE.otb+_decomp.mat_edited.mat', 'emg_dataset\\\\S11_40_KE.otb+_decomp.mat_edited.mat', 'emg_dataset\\\\S11_50_KE.otb+_decomp.mat_edited.mat', 'emg_dataset\\\\S11_60_KE.otb+_decomp.mat_edited.mat', 'emg_dataset\\\\S11_70_KE.otb+_decomp.mat_edited.mat', 'emg_dataset\\\\S11_80_KE.otb+_decomp.mat_edited.mat', 'emg_dataset\\\\S12_10_KE.otb+_decomp.mat_edited.mat', 'emg_dataset\\\\S12_20_KE.otb+_decomp.mat_edited.mat', 'emg_dataset\\\\S12_30_KE.otb+_decomp.mat_edited.mat', 'emg_dataset\\\\S12_40_KE.otb+_decomp.mat_edited.mat', 'emg_dataset\\\\S12_50_KE.otb+_decomp.mat_edited.mat', 'emg_dataset\\\\S12_60_KE.otb+_decomp.mat_edited.mat', 'emg_dataset\\\\S12_70_KE.otb+_decomp.mat_edited.mat', 'emg_dataset\\\\S12_80_KE.otb+_decomp.mat_edited.mat', 'emg_dataset\\\\S13_10_KE.otb+_decomp.mat_edited.mat', 'emg_dataset\\\\S13_20_KE.otb+_decomp.mat_edited.mat', 'emg_dataset\\\\S13_30_KE.otb+_decomp.mat_edited.mat', 'emg_dataset\\\\S13_40_KE.otb+_decomp.mat_edited.mat', 'emg_dataset\\\\S13_50_KE.otb+_decomp.mat_edited.mat', 'emg_dataset\\\\S13_60_KE.otb+_decomp.mat_edited.mat', 'emg_dataset\\\\S13_70_KE.otb+_decomp.mat_edited.mat', 'emg_dataset\\\\S13_80_KE.otb+_decomp.mat_edited.mat', 'emg_dataset\\\\S14_10_KE.otb+_decomp.mat_edited.mat', 'emg_dataset\\\\S14_20_KE.otb+_decomp.mat_edited.mat', 'emg_dataset\\\\S14_30_KE.otb+_decomp.mat_edited.mat', 'emg_dataset\\\\S14_40_KE.otb+_decomp.mat_edited.mat', 'emg_dataset\\\\S14_50_KE.otb+_decomp.mat_edited.mat', 'emg_dataset\\\\S14_60_KE.otb+_decomp.mat_edited.mat', 'emg_dataset\\\\S14_70_KE.otb+_decomp.mat_edited.mat', 'emg_dataset\\\\S14_80_KE.otb+_decomp.mat_edited.mat', 'emg_dataset\\\\S15_10_KE.otb+_decomp.mat_edited.mat', 'emg_dataset\\\\S15_20_KE.otb+_decomp.mat_edited.mat', 'emg_dataset\\\\S15_30_KE.otb+_decomp.mat_edited.mat', 'emg_dataset\\\\S15_40_KE.otb+_decomp.mat_edited.mat', 'emg_dataset\\\\S15_80_KE.otb+_decomp.mat_edited.mat', 'emg_dataset\\\\S17_10_KE.otb+_decomp.mat_edited.mat', 'emg_dataset\\\\S17_30_KE.otb+_decomp.mat_edited.mat', 'emg_dataset\\\\S17_50_KE.otb+_decomp.mat_edited.mat', 'emg_dataset\\\\S17_60_KE.otb+_decomp.mat_edited.mat', 'emg_dataset\\\\S17_70_KE.otb+_decomp.mat_edited.mat', 'emg_dataset\\\\S17_80_KE.otb+_decomp.mat_edited.mat', 'emg_dataset\\\\S1_10_DF.otb+_decomp.mat_edited.mat', 'emg_dataset\\\\S1_20_DF.otb+_decomp.mat_edited.mat', 'emg_dataset\\\\S1_30_DF.otb+_decomp.mat_edited.mat', 'emg_dataset\\\\S1_40_DF.otb+_decomp.mat_edited.mat', 'emg_dataset\\\\S1_50_DF.otb+_decomp.mat_edited.mat', 'emg_dataset\\\\S1_60_DF.otb+_decomp.mat_edited.mat', 'emg_dataset\\\\S1_70_DF.otb+_decomp.mat_edited.mat', 'emg_dataset\\\\S1_80_DF.otb+_decomp.mat_edited.mat', 'emg_dataset\\\\S2_10_DF.otb+_decomp.mat_edited.mat', 'emg_dataset\\\\S2_20_DF.otb+_decomp.mat_edited.mat', 'emg_dataset\\\\S2_30_DF.otb+_decomp.mat_edited.mat', 'emg_dataset\\\\S2_40_DF.otb+_decomp.mat_edited.mat', 'emg_dataset\\\\S2_50_DF.otb+_decomp.mat_edited.mat', 'emg_dataset\\\\S2_60_DF.otb+_decomp.mat_edited.mat', 'emg_dataset\\\\S2_70_DF.otb+_decomp.mat_edited.mat', 'emg_dataset\\\\S2_80_DF.otb+_decomp.mat_edited.mat', 'emg_dataset\\\\S3_10_DF.otb+_decomp.mat_edited.mat', 'emg_dataset\\\\S3_20_DF.otb+_decomp.mat_edited.mat', 'emg_dataset\\\\S3_30_DF.otb+_decomp.mat_edited.mat', 'emg_dataset\\\\S3_40_DF.otb+_decomp.mat_edited.mat', 'emg_dataset\\\\S3_50_DF.otb+_decomp.mat_edited.mat', 'emg_dataset\\\\S3_60_DF.otb+_decomp.mat_edited.mat', 'emg_dataset\\\\S3_70_DF.otb+_decomp.mat_edited.mat', 'emg_dataset\\\\S3_80_DF.otb+_decomp.mat_edited.mat', 'emg_dataset\\\\S4_20_DF.otb+_decomp_edited.mat', 'emg_dataset\\\\S4_30_DF.otb+_decomp_edited.mat', 'emg_dataset\\\\S4_40_DF.otb+_decomp_edited.mat', 'emg_dataset\\\\S4_70_DF.otb+_decomp_edited.mat', 'emg_dataset\\\\S4_80_DF.otb+_decomp_edited.mat', 'emg_dataset\\\\S5_10_DF.otb+_decomp.mat_edited.mat', 'emg_dataset\\\\S5_20_DF.otb+_decomp.mat_edited.mat', 'emg_dataset\\\\S5_30_DF.otb+_decomp.mat_edited.mat', 'emg_dataset\\\\S5_40_DF.otb+_decomp.mat_edited.mat', 'emg_dataset\\\\S5_50_DF.otb+_decomp.mat_edited.mat', 'emg_dataset\\\\S5_60_DF.otb+_decomp.mat_edited.mat', 'emg_dataset\\\\S5_70_DF.otb+_decomp.mat_edited.mat', 'emg_dataset\\\\S5_80_DF.otb+_decomp.mat_edited.mat', 'emg_dataset\\\\S6_10_DF.otb+_decomp.mat_edited.mat', 'emg_dataset\\\\S6_20_DF.otb+_decomp.mat_edited.mat', 'emg_dataset\\\\S6_30_DF.otb+_decomp.mat_edited.mat', 'emg_dataset\\\\S6_40_DF.otb+_decomp.mat_edited.mat', 'emg_dataset\\\\S6_50_DF.otb+_decomp.mat_edited.mat', 'emg_dataset\\\\S6_60_DF.otb+_decomp.mat_edited.mat', 'emg_dataset\\\\S6_70_DF.otb+_decomp.mat_edited.mat', 'emg_dataset\\\\S6_80_DF.otb+_decomp.mat_edited.mat', 'emg_dataset\\\\S7_10_DF.otb+_decomp.mat_edited.mat', 'emg_dataset\\\\S7_20_DF.otb+_decomp.mat_edited.mat', 'emg_dataset\\\\S7_30_DF.otb+_decomp.mat_edited.mat', 'emg_dataset\\\\S7_40_DF.otb+_decomp.mat_edited.mat', 'emg_dataset\\\\S7_50_DF.otb+_decomp.mat_edited.mat', 'emg_dataset\\\\S7_60_DF.otb+_decomp.mat_edited.mat', 'emg_dataset\\\\S7_70_DF.otb+_decomp.mat_edited.mat', 'emg_dataset\\\\S7_80_DF.otb+_decomp.mat_edited.mat', 'emg_dataset\\\\S8_10_DF.otb+_decomp.mat_edited.mat', 'emg_dataset\\\\S8_20_DF.otb+_decomp.mat_edited.mat', 'emg_dataset\\\\S8_30_DF.otb+_decomp.mat_edited.mat', 'emg_dataset\\\\S8_40_DF.otb+_decomp.mat_edited.mat', 'emg_dataset\\\\S8_50_DF.otb+_decomp.mat_edited.mat', 'emg_dataset\\\\S8_60_DF.otb+_decomp.mat_edited.mat', 'emg_dataset\\\\S8_70_DF.otb+_decomp.mat_edited.mat', 'emg_dataset\\\\S8_80_DF.otb+_decomp.mat_edited.mat']\n"
     ]
    }
   ],
   "source": [
    "print(count)\n",
    "print(valid_files)"
   ]
  },
  {
   "cell_type": "code",
   "execution_count": 31,
   "metadata": {
    "metadata": {}
   },
   "outputs": [
    {
     "name": "stdout",
     "output_type": "stream",
     "text": [
      "emg_dataset\\S11_10_KE.otb+_decomp.mat_edited.mat\n",
      "emg_dataset\\S11_20_KE.otb+_decomp.mat_edited.mat\n",
      "emg_dataset\\S11_30_KE.otb+_decomp.mat_edited.mat\n",
      "emg_dataset\\S11_40_KE.otb+_decomp.mat_edited.mat\n",
      "emg_dataset\\S11_50_KE.otb+_decomp.mat_edited.mat\n",
      "emg_dataset\\S11_60_KE.otb+_decomp.mat_edited.mat\n",
      "emg_dataset\\S11_70_KE.otb+_decomp.mat_edited.mat\n",
      "emg_dataset\\S11_80_KE.otb+_decomp.mat_edited.mat\n",
      "emg_dataset\\S12_10_KE.otb+_decomp.mat_edited.mat\n",
      "emg_dataset\\S12_20_KE.otb+_decomp.mat_edited.mat\n",
      "emg_dataset\\S12_30_KE.otb+_decomp.mat_edited.mat\n",
      "emg_dataset\\S12_40_KE.otb+_decomp.mat_edited.mat\n",
      "emg_dataset\\S12_50_KE.otb+_decomp.mat_edited.mat\n",
      "emg_dataset\\S12_60_KE.otb+_decomp.mat_edited.mat\n",
      "emg_dataset\\S12_70_KE.otb+_decomp.mat_edited.mat\n",
      "emg_dataset\\S12_80_KE.otb+_decomp.mat_edited.mat\n",
      "emg_dataset\\S13_10_KE.otb+_decomp.mat_edited.mat\n",
      "emg_dataset\\S13_20_KE.otb+_decomp.mat_edited.mat\n",
      "emg_dataset\\S13_30_KE.otb+_decomp.mat_edited.mat\n",
      "emg_dataset\\S13_40_KE.otb+_decomp.mat_edited.mat\n",
      "emg_dataset\\S13_50_KE.otb+_decomp.mat_edited.mat\n",
      "emg_dataset\\S13_60_KE.otb+_decomp.mat_edited.mat\n",
      "emg_dataset\\S13_70_KE.otb+_decomp.mat_edited.mat\n",
      "emg_dataset\\S13_80_KE.otb+_decomp.mat_edited.mat\n",
      "emg_dataset\\S14_10_KE.otb+_decomp.mat_edited.mat\n",
      "emg_dataset\\S14_20_KE.otb+_decomp.mat_edited.mat\n",
      "emg_dataset\\S14_30_KE.otb+_decomp.mat_edited.mat\n",
      "emg_dataset\\S14_40_KE.otb+_decomp.mat_edited.mat\n",
      "emg_dataset\\S14_50_KE.otb+_decomp.mat_edited.mat\n",
      "emg_dataset\\S14_60_KE.otb+_decomp.mat_edited.mat\n",
      "emg_dataset\\S14_70_KE.otb+_decomp.mat_edited.mat\n",
      "emg_dataset\\S14_80_KE.otb+_decomp.mat_edited.mat\n",
      "emg_dataset\\S15_10_KE.otb+_decomp.mat_edited.mat\n",
      "emg_dataset\\S15_20_KE.otb+_decomp.mat_edited.mat\n",
      "emg_dataset\\S15_30_KE.otb+_decomp.mat_edited.mat\n",
      "emg_dataset\\S15_40_KE.otb+_decomp.mat_edited.mat\n",
      "emg_dataset\\S15_80_KE.otb+_decomp.mat_edited.mat\n",
      "emg_dataset\\S17_10_KE.otb+_decomp.mat_edited.mat\n",
      "emg_dataset\\S17_30_KE.otb+_decomp.mat_edited.mat\n",
      "emg_dataset\\S17_50_KE.otb+_decomp.mat_edited.mat\n",
      "emg_dataset\\S17_60_KE.otb+_decomp.mat_edited.mat\n",
      "emg_dataset\\S17_70_KE.otb+_decomp.mat_edited.mat\n",
      "emg_dataset\\S17_80_KE.otb+_decomp.mat_edited.mat\n",
      "emg_dataset\\S1_10_DF.otb+_decomp.mat_edited.mat\n",
      "emg_dataset\\S1_20_DF.otb+_decomp.mat_edited.mat\n",
      "emg_dataset\\S1_30_DF.otb+_decomp.mat_edited.mat\n",
      "emg_dataset\\S1_40_DF.otb+_decomp.mat_edited.mat\n",
      "emg_dataset\\S1_50_DF.otb+_decomp.mat_edited.mat\n",
      "emg_dataset\\S1_60_DF.otb+_decomp.mat_edited.mat\n",
      "emg_dataset\\S1_70_DF.otb+_decomp.mat_edited.mat\n",
      "emg_dataset\\S1_80_DF.otb+_decomp.mat_edited.mat\n",
      "emg_dataset\\S2_10_DF.otb+_decomp.mat_edited.mat\n",
      "emg_dataset\\S2_20_DF.otb+_decomp.mat_edited.mat\n",
      "emg_dataset\\S2_30_DF.otb+_decomp.mat_edited.mat\n",
      "emg_dataset\\S2_40_DF.otb+_decomp.mat_edited.mat\n",
      "emg_dataset\\S2_50_DF.otb+_decomp.mat_edited.mat\n",
      "emg_dataset\\S2_60_DF.otb+_decomp.mat_edited.mat\n",
      "emg_dataset\\S2_70_DF.otb+_decomp.mat_edited.mat\n",
      "emg_dataset\\S2_80_DF.otb+_decomp.mat_edited.mat\n",
      "emg_dataset\\S3_10_DF.otb+_decomp.mat_edited.mat\n",
      "emg_dataset\\S3_20_DF.otb+_decomp.mat_edited.mat\n",
      "emg_dataset\\S3_30_DF.otb+_decomp.mat_edited.mat\n",
      "emg_dataset\\S3_40_DF.otb+_decomp.mat_edited.mat\n",
      "emg_dataset\\S3_50_DF.otb+_decomp.mat_edited.mat\n",
      "emg_dataset\\S3_60_DF.otb+_decomp.mat_edited.mat\n",
      "emg_dataset\\S3_70_DF.otb+_decomp.mat_edited.mat\n",
      "emg_dataset\\S3_80_DF.otb+_decomp.mat_edited.mat\n",
      "emg_dataset\\S4_20_DF.otb+_decomp_edited.mat\n",
      "emg_dataset\\S4_30_DF.otb+_decomp_edited.mat\n",
      "emg_dataset\\S4_40_DF.otb+_decomp_edited.mat\n",
      "emg_dataset\\S4_70_DF.otb+_decomp_edited.mat\n",
      "emg_dataset\\S4_80_DF.otb+_decomp_edited.mat\n",
      "emg_dataset\\S5_10_DF.otb+_decomp.mat_edited.mat\n",
      "emg_dataset\\S5_20_DF.otb+_decomp.mat_edited.mat\n",
      "emg_dataset\\S5_30_DF.otb+_decomp.mat_edited.mat\n",
      "emg_dataset\\S5_40_DF.otb+_decomp.mat_edited.mat\n",
      "emg_dataset\\S5_50_DF.otb+_decomp.mat_edited.mat\n",
      "emg_dataset\\S5_60_DF.otb+_decomp.mat_edited.mat\n",
      "emg_dataset\\S5_70_DF.otb+_decomp.mat_edited.mat\n",
      "emg_dataset\\S5_80_DF.otb+_decomp.mat_edited.mat\n",
      "emg_dataset\\S6_10_DF.otb+_decomp.mat_edited.mat\n",
      "emg_dataset\\S6_20_DF.otb+_decomp.mat_edited.mat\n",
      "emg_dataset\\S6_30_DF.otb+_decomp.mat_edited.mat\n",
      "emg_dataset\\S6_40_DF.otb+_decomp.mat_edited.mat\n",
      "emg_dataset\\S6_50_DF.otb+_decomp.mat_edited.mat\n",
      "emg_dataset\\S6_60_DF.otb+_decomp.mat_edited.mat\n",
      "emg_dataset\\S6_70_DF.otb+_decomp.mat_edited.mat\n",
      "emg_dataset\\S6_80_DF.otb+_decomp.mat_edited.mat\n",
      "emg_dataset\\S7_10_DF.otb+_decomp.mat_edited.mat\n",
      "emg_dataset\\S7_20_DF.otb+_decomp.mat_edited.mat\n",
      "emg_dataset\\S7_30_DF.otb+_decomp.mat_edited.mat\n",
      "emg_dataset\\S7_40_DF.otb+_decomp.mat_edited.mat\n",
      "emg_dataset\\S7_50_DF.otb+_decomp.mat_edited.mat\n",
      "emg_dataset\\S7_60_DF.otb+_decomp.mat_edited.mat\n",
      "emg_dataset\\S7_70_DF.otb+_decomp.mat_edited.mat\n",
      "emg_dataset\\S7_80_DF.otb+_decomp.mat_edited.mat\n",
      "emg_dataset\\S8_10_DF.otb+_decomp.mat_edited.mat\n",
      "emg_dataset\\S8_20_DF.otb+_decomp.mat_edited.mat\n",
      "emg_dataset\\S8_30_DF.otb+_decomp.mat_edited.mat\n",
      "emg_dataset\\S8_40_DF.otb+_decomp.mat_edited.mat\n",
      "emg_dataset\\S8_50_DF.otb+_decomp.mat_edited.mat\n",
      "emg_dataset\\S8_60_DF.otb+_decomp.mat_edited.mat\n",
      "emg_dataset\\S8_70_DF.otb+_decomp.mat_edited.mat\n",
      "emg_dataset\\S8_80_DF.otb+_decomp.mat_edited.mat\n"
     ]
    }
   ],
   "source": [
    "for file in valid_files:\n",
    "    print(file)"
   ]
  },
  {
   "cell_type": "code",
   "execution_count": 33,
   "metadata": {
    "metadata": {}
   },
   "outputs": [
    {
     "name": "stdout",
     "output_type": "stream",
     "text": [
      "emg_dataset\\S16_10_KE.otb+_decomp.mat_edited.mat\n",
      "emg_dataset\\S16_20_KE.otb+_decomp.mat_edited.mat\n",
      "emg_dataset\\S16_30_KE.otb+_decomp.mat_edited.mat\n",
      "emg_dataset\\S16_40_KE.otb+_decomp.mat_edited.mat\n",
      "emg_dataset\\S16_50_KE.otb+_decomp.mat_edited.mat\n",
      "emg_dataset\\S16_60_KE.otb+_decomp.mat_edited.mat\n",
      "emg_dataset\\S16_70_KE.otb+_decomp.mat_edited.mat\n",
      "emg_dataset\\S17_20_KE.otb+_decomp.mat_edited.mat\n",
      "emg_dataset\\S17_40_KE.otb+_decomp.mat_edited.mat\n",
      "emg_dataset\\S18_10_KE.otb+_decomp.mat_edited.mat\n",
      "emg_dataset\\S18_20_KE.otb+_decomp.mat_edited.mat\n",
      "emg_dataset\\S18_30_KE.otb+_decomp.mat_edited.mat\n",
      "emg_dataset\\S18_40_KE.otb+_decomp.mat_edited.mat\n",
      "emg_dataset\\S18_50_KE.otb+_decomp.mat_edited.mat\n",
      "emg_dataset\\S18_60_KE.otb+_decomp.mat_edited.mat\n",
      "emg_dataset\\S18_70_KE.otb+_decomp.mat_edited.mat\n",
      "emg_dataset\\S18_80_KE.otb+_decomp.mat_edited.mat\n",
      "emg_dataset\\S4_10_DF.otb+_decomp_edited.mat\n",
      "emg_dataset\\S4_50_DF.otb+_decomp_edited.mat\n",
      "emg_dataset\\S4_60_DF.otb+_decomp_edited.mat\n"
     ]
    }
   ],
   "source": [
    "for file in invalid_files:\n",
    "    print(file)"
   ]
  },
  {
   "cell_type": "markdown",
   "metadata": {},
   "source": [
    "### spectograph processing"
   ]
  },
  {
   "cell_type": "code",
   "execution_count": 3,
   "metadata": {
    "metadata": {}
   },
   "outputs": [
    {
     "name": "stderr",
     "output_type": "stream",
     "text": [
      "C:\\Users\\savnkk\\AppData\\Roaming\\Python\\Python310\\site-packages\\torchaudio\\backend\\utils.py:74: UserWarning: No audio backend is available.\n",
      "  warnings.warn(\"No audio backend is available.\")\n"
     ]
    }
   ],
   "source": [
    "from load_data import Signal\n",
    "from scipy.signal import spectrogram\n",
    "import torchaudio\n",
    "import torch"
   ]
  },
  {
   "cell_type": "code",
   "execution_count": 4,
   "metadata": {
    "metadata": {}
   },
   "outputs": [
    {
     "data": {
      "text/plain": [
       "60"
      ]
     },
     "execution_count": 4,
     "metadata": {},
     "output_type": "execute_result"
    }
   ],
   "source": [
    "file = os.path.join(DATASET,\"S1_10_DF.otb+_decomp.mat_edited.mat\")\n",
    "datafiles.index(file)"
   ]
  },
  {
   "cell_type": "code",
   "execution_count": 5,
   "metadata": {
    "metadata": {}
   },
   "outputs": [],
   "source": [
    "sig = Signal(file)"
   ]
  },
  {
   "cell_type": "code",
   "execution_count": 7,
   "metadata": {},
   "outputs": [
    {
     "name": "stdout",
     "output_type": "stream",
     "text": [
      "20381696\n",
      "\temg_dataset\\S11_20_KE.otb+_decomp.mat_edited.mat is not a MATLAB 7.3 file. Load with scipy.io.loadmat() instead.\n",
      "\tCanot process idx=1, file='emg_dataset\\\\S11_20_KE.otb+_decomp.mat_edited.mat'\n",
      "26771456\n",
      "26378240\n",
      "23855104\n",
      "26705920\n",
      "28049408\n",
      "29261824\n",
      "20316160\n",
      "22577152\n",
      "25034752\n",
      "27262976\n",
      "23166976\n",
      "26279936\n",
      "28409856\n",
      "28704768\n",
      "20676608\n",
      "21594112\n",
      "24477696\n",
      "26836992\n",
      "22183936\n",
      "25034752\n",
      "27131904\n",
      "29327360\n",
      "21539200\n",
      "25541760\n",
      "25307765\n",
      "25982720\n",
      "24117120\n",
      "24931200\n",
      "28865920\n",
      "28187520\n",
      "20996480\n",
      "23845760\n",
      "25847040\n",
      "27136000\n",
      "30561920\n",
      "21335680\n",
      "23065600\n",
      "25440000\n",
      "29239040\n",
      "24490240\n",
      "27102080\n",
      "28051840\n",
      "21200896\n",
      "23330816\n",
      "26083328\n",
      "26738688\n",
      "23330816\n",
      "25624576\n",
      "28147712\n",
      "30539776\n",
      "20860800\n",
      "23370880\n",
      "24897280\n",
      "27780480\n",
      "23777920\n",
      "26254080\n",
      "27950080\n",
      "30697600\n",
      "16616030\n",
      "18624465\n",
      "20793755\n",
      "22963575\n",
      "22182885\n",
      "24762130\n",
      "24321170\n",
      "26321390\n",
      "16481675\n",
      "18793535\n",
      "21097975\n",
      "23065070\n",
      "22795565\n",
      "25812590\n",
      "24091680\n",
      "28526455\n",
      "16691820\n",
      "18659975\n",
      "20655955\n",
      "23339610\n",
      "22455305\n",
      "25780525\n",
      "24051930\n",
      "26184915\n",
      "16330890\n",
      "18852630\n",
      "20759040\n",
      "23423615\n",
      "22461135\n",
      "24613465\n",
      "23658405\n",
      "26066725\n",
      "16862745\n",
      "18663155\n",
      "20697295\n",
      "22760585\n",
      "22111070\n",
      "24761070\n",
      "23996810\n",
      "26016640\n",
      "17562610\n",
      "19922965\n",
      "22077150\n",
      "23877295\n",
      "23447200\n",
      "25930250\n",
      "24971480\n",
      "26900415\n",
      "17335240\n",
      "20010415\n",
      "21777435\n",
      "24286720\n",
      "24385035\n",
      "25644845\n",
      "25473125\n",
      "27782070\n",
      "17330205\n",
      "20018895\n",
      "22090930\n",
      "24455790\n",
      "23508415\n",
      "26432955\n",
      "24839775\n",
      "27510180\n"
     ]
    }
   ],
   "source": [
    "samples = []\n",
    "electrodes = []\n",
    "\n",
    "for idx, file in enumerate(arr):\n",
    "    try:\n",
    "        zi = Signal(file)\n",
    "        print(zi.data.size)\n",
    "        sample, electrode = zi.data.shape \n",
    "        electrodes.append(electrode)\n",
    "        samples.append(sample)\n",
    "    except Exception as e:\n",
    "        print(f\"\\t{e}\")\n",
    "        print(f\"\\tCanot process {idx=}, {file=}\")"
   ]
  },
  {
   "cell_type": "code",
   "execution_count": 12,
   "metadata": {},
   "outputs": [
    {
     "name": "stdout",
     "output_type": "stream",
     "text": [
      "DescribeResult(nobs=123, minmax=(256, 265), mean=262.7317073170732, variance=15.394642143142741, skewness=-1.156384269253502, kurtosis=-0.6740028745957383)\n",
      "DescribeResult(nobs=123, minmax=(61626, 119296), mean=91267.9593495935, variance=170922316.0065307, skewness=-0.3025135808301116, kurtosis=-0.30354631291591305)\n"
     ]
    }
   ],
   "source": [
    "import scipy\n",
    "print(scipy.stats.describe(samples, ddof=1, bias=False))\n",
    "print(scipy.stats.describe(electrodes, ddof=1, bias=False))"
   ]
  },
  {
   "cell_type": "code",
   "execution_count": null,
   "metadata": {},
   "outputs": [],
   "source": [
    "# get shape (electrodes, samples)\n",
    "# sample 256 out of electrodes\n",
    "# pad using 119296 - samples //2 on both sides\n",
    "# apply fft\n",
    "# transform to torch tensor"
   ]
  },
  {
   "cell_type": "code",
   "execution_count": null,
   "metadata": {},
   "outputs": [],
   "source": [
    "tx = torch.tensor(zi.data)\n",
    "transform = torchaudio.transforms.Spectrogram(n_fft=2048)\n",
    "transform(tx)"
   ]
  },
  {
   "cell_type": "code",
   "execution_count": 10,
   "metadata": {},
   "outputs": [
    {
     "data": {
      "text/plain": [
       "tensor([[0., 0., 0., 0., 0., 0., 1., 0., 0.],\n",
       "        [0., 0., 0., 0., 0., 0., 1., 0., 0.]], dtype=torch.float64)"
      ]
     },
     "execution_count": 10,
     "metadata": {},
     "output_type": "execute_result"
    }
   ],
   "source": [
    "torch.nn.functional.pad(torch.tensor([[0,1],[0,1]], dtype=torch.float64),  (5,2))"
   ]
  },
  {
   "cell_type": "code",
   "execution_count": 14,
   "metadata": {},
   "outputs": [
    {
     "data": {
      "text/plain": [
       "array([[0, 0, 0, 0, 0, 0, 1, 0, 0],\n",
       "       [0, 0, 0, 0, 0, 0, 1, 0, 0]])"
      ]
     },
     "execution_count": 14,
     "metadata": {},
     "output_type": "execute_result"
    }
   ],
   "source": [
    "import numpy as np\n",
    "np.pad(np.array([[0,1],[0,1]]),  ((0,0), (5,2)))"
   ]
  },
  {
   "cell_type": "markdown",
   "metadata": {},
   "source": []
  },
  {
   "cell_type": "code",
   "execution_count": 22,
   "metadata": {},
   "outputs": [],
   "source": [
    "apply_spec = np.frompyfunc(lambda x: spectrogram(x, fs=2048), 1, 1)\n",
    "vec_spec = np.vectorize(spectrogram)"
   ]
  },
  {
   "cell_type": "code",
   "execution_count": 16,
   "metadata": {},
   "outputs": [
    {
     "name": "stdout",
     "output_type": "stream",
     "text": [
      "[217 215 163 131  69  10   4  80  46  19]\n"
     ]
    }
   ],
   "source": [
    "SEED = 0\n",
    "rng = np.random.default_rng(SEED)\n",
    "print(rng.choice(zi.data.shape[0], size=10, replace=False))\n",
    "x2 = zi.data[rng.choice(zi.data.shape[0], size=10, replace=False)]"
   ]
  },
  {
   "cell_type": "code",
   "execution_count": 18,
   "metadata": {},
   "outputs": [
    {
     "name": "stdout",
     "output_type": "stream",
     "text": [
      "(10, 103812)\n"
     ]
    }
   ],
   "source": [
    "print(x2.shape)"
   ]
  },
  {
   "cell_type": "code",
   "execution_count": 20,
   "metadata": {},
   "outputs": [
    {
     "name": "stdout",
     "output_type": "stream",
     "text": [
      "7742\n",
      "(10, 119296)\n"
     ]
    }
   ],
   "source": [
    "PAD_TARGET = 119296\n",
    "pad = (PAD_TARGET - x2.shape[1])//2\n",
    "print(pad)\n",
    "x3 = np.pad(x2, ((0,0), (pad,pad)))\n",
    "print(x3.shape)"
   ]
  },
  {
   "cell_type": "code",
   "execution_count": 30,
   "metadata": {},
   "outputs": [
    {
     "name": "stdout",
     "output_type": "stream",
     "text": [
      "(10, 129, 532)\n"
     ]
    }
   ],
   "source": [
    "fin = np.zeros((10, 129, 532))\n",
    "for (idx, row) in enumerate(x3):\n",
    "    f, t, sxx = spectrogram(row, fs=2048)\n",
    "    fin[idx] = sxx\n",
    "#spec4 = vec_spec(x3, fs=2048)\n",
    "print(fin.shape)"
   ]
  },
  {
   "cell_type": "code",
   "execution_count": 31,
   "metadata": {},
   "outputs": [
    {
     "data": {
      "text/plain": [
       "dtype('float64')"
      ]
     },
     "execution_count": 31,
     "metadata": {},
     "output_type": "execute_result"
    }
   ],
   "source": [
    "fin.dtype"
   ]
  },
  {
   "cell_type": "markdown",
   "metadata": {},
   "source": [
    "### Selecting samples"
   ]
  },
  {
   "cell_type": "code",
   "execution_count": 33,
   "metadata": {},
   "outputs": [
    {
     "data": {
      "text/plain": [
       "array([161, 129,  68,  78, 214], dtype=int64)"
      ]
     },
     "execution_count": 33,
     "metadata": {},
     "output_type": "execute_result"
    }
   ],
   "source": [
    "import numpy as np\n",
    "SEED = 0\n",
    "rng = np.random.default_rng(SEED)\n",
    "rng.choice(256, size=5, replace=False)"
   ]
  },
  {
   "cell_type": "markdown",
   "metadata": {},
   "source": [
    "### testing labels"
   ]
  },
  {
   "cell_type": "code",
   "execution_count": 26,
   "metadata": {},
   "outputs": [
    {
     "name": "stdout",
     "output_type": "stream",
     "text": [
      "{'subject': '11', 'force': '10', 'task': 'KE'}\n",
      "{'subject': '11', 'force': '20', 'task': 'KE'}\n",
      "{'subject': '11', 'force': '30', 'task': 'KE'}\n",
      "{'subject': '11', 'force': '40', 'task': 'KE'}\n",
      "{'subject': '11', 'force': '50', 'task': 'KE'}\n",
      "{'subject': '11', 'force': '60', 'task': 'KE'}\n",
      "{'subject': '11', 'force': '70', 'task': 'KE'}\n",
      "{'subject': '11', 'force': '80', 'task': 'KE'}\n",
      "{'subject': '12', 'force': '10', 'task': 'KE'}\n",
      "{'subject': '12', 'force': '20', 'task': 'KE'}\n",
      "{'subject': '12', 'force': '30', 'task': 'KE'}\n",
      "{'subject': '12', 'force': '40', 'task': 'KE'}\n",
      "{'subject': '12', 'force': '50', 'task': 'KE'}\n",
      "{'subject': '12', 'force': '60', 'task': 'KE'}\n",
      "{'subject': '12', 'force': '70', 'task': 'KE'}\n",
      "{'subject': '12', 'force': '80', 'task': 'KE'}\n",
      "{'subject': '13', 'force': '10', 'task': 'KE'}\n",
      "{'subject': '13', 'force': '20', 'task': 'KE'}\n",
      "{'subject': '13', 'force': '30', 'task': 'KE'}\n",
      "{'subject': '13', 'force': '40', 'task': 'KE'}\n",
      "{'subject': '13', 'force': '50', 'task': 'KE'}\n",
      "{'subject': '13', 'force': '60', 'task': 'KE'}\n",
      "{'subject': '13', 'force': '70', 'task': 'KE'}\n",
      "{'subject': '13', 'force': '80', 'task': 'KE'}\n",
      "{'subject': '14', 'force': '10', 'task': 'KE'}\n",
      "{'subject': '14', 'force': '20', 'task': 'KE'}\n",
      "{'subject': '14', 'force': '30', 'task': 'KE'}\n",
      "{'subject': '14', 'force': '40', 'task': 'KE'}\n",
      "{'subject': '14', 'force': '50', 'task': 'KE'}\n",
      "{'subject': '14', 'force': '60', 'task': 'KE'}\n",
      "{'subject': '14', 'force': '70', 'task': 'KE'}\n",
      "{'subject': '14', 'force': '80', 'task': 'KE'}\n",
      "{'subject': '15', 'force': '10', 'task': 'KE'}\n",
      "{'subject': '15', 'force': '20', 'task': 'KE'}\n",
      "{'subject': '15', 'force': '30', 'task': 'KE'}\n",
      "{'subject': '15', 'force': '40', 'task': 'KE'}\n",
      "{'subject': '15', 'force': '80', 'task': 'KE'}\n",
      "{'subject': '16', 'force': '10', 'task': 'KE'}\n",
      "{'subject': '16', 'force': '20', 'task': 'KE'}\n",
      "{'subject': '16', 'force': '30', 'task': 'KE'}\n",
      "{'subject': '16', 'force': '40', 'task': 'KE'}\n",
      "{'subject': '16', 'force': '50', 'task': 'KE'}\n",
      "{'subject': '16', 'force': '60', 'task': 'KE'}\n",
      "{'subject': '16', 'force': '70', 'task': 'KE'}\n",
      "{'subject': '17', 'force': '10', 'task': 'KE'}\n",
      "{'subject': '17', 'force': '20', 'task': 'KE'}\n",
      "{'subject': '17', 'force': '30', 'task': 'KE'}\n",
      "{'subject': '17', 'force': '40', 'task': 'KE'}\n",
      "{'subject': '17', 'force': '50', 'task': 'KE'}\n",
      "{'subject': '17', 'force': '60', 'task': 'KE'}\n",
      "{'subject': '17', 'force': '70', 'task': 'KE'}\n",
      "{'subject': '17', 'force': '80', 'task': 'KE'}\n",
      "{'subject': '18', 'force': '10', 'task': 'KE'}\n",
      "{'subject': '18', 'force': '20', 'task': 'KE'}\n",
      "{'subject': '18', 'force': '30', 'task': 'KE'}\n",
      "{'subject': '18', 'force': '40', 'task': 'KE'}\n",
      "{'subject': '18', 'force': '50', 'task': 'KE'}\n",
      "{'subject': '18', 'force': '60', 'task': 'KE'}\n",
      "{'subject': '18', 'force': '70', 'task': 'KE'}\n",
      "{'subject': '18', 'force': '80', 'task': 'KE'}\n",
      "{'subject': '1', 'force': '10', 'task': 'DF'}\n",
      "{'subject': '1', 'force': '20', 'task': 'DF'}\n",
      "{'subject': '1', 'force': '30', 'task': 'DF'}\n",
      "{'subject': '1', 'force': '40', 'task': 'DF'}\n",
      "{'subject': '1', 'force': '50', 'task': 'DF'}\n",
      "{'subject': '1', 'force': '60', 'task': 'DF'}\n",
      "{'subject': '1', 'force': '70', 'task': 'DF'}\n",
      "{'subject': '1', 'force': '80', 'task': 'DF'}\n",
      "{'subject': '2', 'force': '10', 'task': 'DF'}\n",
      "{'subject': '2', 'force': '20', 'task': 'DF'}\n",
      "{'subject': '2', 'force': '30', 'task': 'DF'}\n",
      "{'subject': '2', 'force': '40', 'task': 'DF'}\n",
      "{'subject': '2', 'force': '50', 'task': 'DF'}\n",
      "{'subject': '2', 'force': '60', 'task': 'DF'}\n",
      "{'subject': '2', 'force': '70', 'task': 'DF'}\n",
      "{'subject': '2', 'force': '80', 'task': 'DF'}\n",
      "{'subject': '3', 'force': '10', 'task': 'DF'}\n",
      "{'subject': '3', 'force': '20', 'task': 'DF'}\n",
      "{'subject': '3', 'force': '30', 'task': 'DF'}\n",
      "{'subject': '3', 'force': '40', 'task': 'DF'}\n",
      "{'subject': '3', 'force': '50', 'task': 'DF'}\n",
      "{'subject': '3', 'force': '60', 'task': 'DF'}\n",
      "{'subject': '3', 'force': '70', 'task': 'DF'}\n",
      "{'subject': '3', 'force': '80', 'task': 'DF'}\n",
      "{'subject': '4', 'force': '10', 'task': 'DF'}\n",
      "{'subject': '4', 'force': '20', 'task': 'DF'}\n",
      "{'subject': '4', 'force': '30', 'task': 'DF'}\n",
      "{'subject': '4', 'force': '40', 'task': 'DF'}\n",
      "{'subject': '4', 'force': '50', 'task': 'DF'}\n",
      "{'subject': '4', 'force': '60', 'task': 'DF'}\n",
      "{'subject': '4', 'force': '70', 'task': 'DF'}\n",
      "{'subject': '4', 'force': '80', 'task': 'DF'}\n",
      "{'subject': '5', 'force': '10', 'task': 'DF'}\n",
      "{'subject': '5', 'force': '20', 'task': 'DF'}\n",
      "{'subject': '5', 'force': '30', 'task': 'DF'}\n",
      "{'subject': '5', 'force': '40', 'task': 'DF'}\n",
      "{'subject': '5', 'force': '50', 'task': 'DF'}\n",
      "{'subject': '5', 'force': '60', 'task': 'DF'}\n",
      "{'subject': '5', 'force': '70', 'task': 'DF'}\n",
      "{'subject': '5', 'force': '80', 'task': 'DF'}\n",
      "{'subject': '6', 'force': '10', 'task': 'DF'}\n",
      "{'subject': '6', 'force': '20', 'task': 'DF'}\n",
      "{'subject': '6', 'force': '30', 'task': 'DF'}\n",
      "{'subject': '6', 'force': '40', 'task': 'DF'}\n",
      "{'subject': '6', 'force': '50', 'task': 'DF'}\n",
      "{'subject': '6', 'force': '60', 'task': 'DF'}\n",
      "{'subject': '6', 'force': '70', 'task': 'DF'}\n",
      "{'subject': '6', 'force': '80', 'task': 'DF'}\n",
      "{'subject': '7', 'force': '10', 'task': 'DF'}\n",
      "{'subject': '7', 'force': '20', 'task': 'DF'}\n",
      "{'subject': '7', 'force': '30', 'task': 'DF'}\n",
      "{'subject': '7', 'force': '40', 'task': 'DF'}\n",
      "{'subject': '7', 'force': '50', 'task': 'DF'}\n",
      "{'subject': '7', 'force': '60', 'task': 'DF'}\n",
      "{'subject': '7', 'force': '70', 'task': 'DF'}\n",
      "{'subject': '7', 'force': '80', 'task': 'DF'}\n",
      "{'subject': '8', 'force': '10', 'task': 'DF'}\n",
      "{'subject': '8', 'force': '20', 'task': 'DF'}\n",
      "{'subject': '8', 'force': '30', 'task': 'DF'}\n",
      "{'subject': '8', 'force': '40', 'task': 'DF'}\n",
      "{'subject': '8', 'force': '50', 'task': 'DF'}\n",
      "{'subject': '8', 'force': '60', 'task': 'DF'}\n",
      "{'subject': '8', 'force': '70', 'task': 'DF'}\n",
      "{'subject': '8', 'force': '80', 'task': 'DF'}\n"
     ]
    }
   ],
   "source": [
    "from load_data import Label\n",
    "for file in arr:\n",
    "    L = Label(os.path.basename(file))\n",
    "    print(L.__dict__)"
   ]
  }
 ],
 "metadata": {
  "kernelspec": {
   "display_name": "Python 3",
   "language": "python",
   "name": "python3"
  },
  "language_info": {
   "codemirror_mode": {
    "name": "ipython",
    "version": 3
   },
   "file_extension": ".py",
   "mimetype": "text/x-python",
   "name": "python",
   "nbconvert_exporter": "python",
   "pygments_lexer": "ipython3",
   "version": "3.10.10"
  }
 },
 "nbformat": 4,
 "nbformat_minor": 2
}
